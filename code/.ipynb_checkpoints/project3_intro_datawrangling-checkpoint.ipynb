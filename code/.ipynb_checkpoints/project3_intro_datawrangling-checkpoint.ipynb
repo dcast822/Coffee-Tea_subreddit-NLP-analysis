{
 "cells": [
  {
   "cell_type": "markdown",
   "id": "b731929b-fad6-4bc7-b754-801c92a5cd5f",
   "metadata": {},
   "source": [
    "<img src=\"http://imgur.com/1ZcRyrc.png\" style=\"float: left; margin: 20px; height: 55px\">\n",
    "\n",
    "# Project 3: Web APIs & NLP"
   ]
  },
  {
   "cell_type": "markdown",
   "id": "8a6ba5ee-baf5-4cad-b98b-cb2400f35bb4",
   "metadata": {},
   "source": [
    "## Problem Statement"
   ]
  },
  {
   "cell_type": "markdown",
   "id": "d779e837-63c8-42f9-aaea-0f9056e0e7cd",
   "metadata": {},
   "source": [
    "As a data scientist hired by a coffee and tea company to leverage data to provide some insights, this project uses NLP to help train a classifier on whether a post came from the coffee subreddit or tea subreddit.  By deploying the push shift API in a manner where we can automate a vast web scrape we can get a substantial amount of posts for the purpose of this project.  We will compare the respective performances of different classification models. We can gauge success by comparing it to a baseline model and whether the model exceeds this.  The stakeholders at the coffee and tea company would be interested to see what words or combination of words are of most use. This study may be of interest to numerous people as coffee and tea are two of the three most popular beverages in the world (alongside water) and two of the most profitable international commodities.  While not all coffee and teas are caffeinated, many throughout the globe who enjoy these beverages attribute their popularity to the invigorating effect produced by caffeine(Myhrvoid, N., 2021). \n",
    "\n",
    "References:\n",
    "\n",
    "https://www.britannica.com/topic/coffee<br>\n",
    "https://www.britannica.com/topic/tea-beverage<br>\n",
    "https://www.pbs.org/food/the-history-kitchen/history-coffee/"
   ]
  },
  {
   "cell_type": "markdown",
   "id": "7f837898-e9b4-46a4-8c15-6a863de9856c",
   "metadata": {},
   "source": [
    "## Datasets Collection"
   ]
  },
  {
   "cell_type": "markdown",
   "id": "51331ff5-e51f-4516-b2b9-96dae59f0c9a",
   "metadata": {},
   "source": [
    "Dataset was obtained by using the pushshift api function in order to webscrape reddit and specifically the following two subreddits:coffee & tea. Each of these sets will include the following columns, the posts and the subreddit name it came from.  \n",
    "- [`coffee.csv`](../data/coffee.csv): Coffee subreddit posts \n",
    "- [`tea.csv`](../data/tea.csv): Tea subreddit posts"
   ]
  },
  {
   "cell_type": "markdown",
   "id": "af297a7d-5ee4-4638-ab33-3037ea60e232",
   "metadata": {},
   "source": [
    "### Data Dictionary"
   ]
  },
  {
   "cell_type": "markdown",
   "id": "228eca10-c439-463f-b3d5-468ce4c35b06",
   "metadata": {},
   "source": [
    "|Feature|Type|Dataset|Description|\n",
    "|---|---|---|---|\n",
    "|post|*object*|coffee/tea|A post within a subreddit|\n",
    "|subreddit|*object*|coffee/tea|Subreddit by category|\n",
    "|post_len|*int*|coffee/tea|Length of a post|\n",
    "|word_count|*int*|coffee/tea|The word count within a post|\n"
   ]
  },
  {
   "cell_type": "markdown",
   "id": "033266a9-4826-4068-bbc6-be4ada42a8d5",
   "metadata": {},
   "source": [
    "### Imports"
   ]
  },
  {
   "cell_type": "code",
   "execution_count": 1,
   "id": "15215406-ca72-407c-b344-ca7b430094ad",
   "metadata": {},
   "outputs": [],
   "source": [
    "import pandas as pd\n",
    "import numpy as np\n",
    "import seaborn as sns\n",
    "import matplotlib.pyplot as plt\n",
    "\n",
    "import requests\n",
    "import urllib\n",
    "import time\n",
    "import json\n",
    "\n",
    "from nltk.tokenize import sent_tokenize, word_tokenize\n",
    "from nltk.stem import WordNetLemmatizer\n",
    "from nltk.corpus import stopwords\n",
    "from sklearn.feature_extraction.text import CountVectorizer\n",
    "from sklearn.naive_bayes import MultinomialNB\n",
    "from sklearn.model_selection import train_test_split, GridSearchCV\n",
    "from sklearn.pipeline import Pipeline\n",
    "from sklearn.metrics import confusion_matrix, plot_confusion_matrix\n",
    "from sklearn.ensemble import RandomForestClassifier, AdaBoostClassifier\n",
    "from sklearn.metrics import accuracy_score, recall_score,precision_score,f1_score"
   ]
  },
  {
   "cell_type": "markdown",
   "id": "bf405963-fb67-43e2-b9ff-fb8e41edeed7",
   "metadata": {},
   "source": [
    "### Exploratory Data Analysis"
   ]
  },
  {
   "cell_type": "code",
   "execution_count": 2,
   "id": "074fb7b7-7b86-4a81-bc23-cf6b5d530759",
   "metadata": {},
   "outputs": [],
   "source": [
    "coffee = pd.read_csv('../data/coffee.csv')\n",
    "tea= pd.read_csv('../data/tea.csv')"
   ]
  },
  {
   "cell_type": "code",
   "execution_count": 3,
   "id": "70842248-613f-4ce6-adb5-3574e53e378d",
   "metadata": {},
   "outputs": [],
   "source": [
    "tea['subreddit']='Tea'"
   ]
  },
  {
   "cell_type": "code",
   "execution_count": 4,
   "id": "5af90894-f92b-4965-9de7-6598ea04c9ed",
   "metadata": {},
   "outputs": [
    {
     "data": {
      "text/html": [
       "<div>\n",
       "<style scoped>\n",
       "    .dataframe tbody tr th:only-of-type {\n",
       "        vertical-align: middle;\n",
       "    }\n",
       "\n",
       "    .dataframe tbody tr th {\n",
       "        vertical-align: top;\n",
       "    }\n",
       "\n",
       "    .dataframe thead th {\n",
       "        text-align: right;\n",
       "    }\n",
       "</style>\n",
       "<table border=\"1\" class=\"dataframe\">\n",
       "  <thead>\n",
       "    <tr style=\"text-align: right;\">\n",
       "      <th></th>\n",
       "      <th>id</th>\n",
       "      <th>date</th>\n",
       "      <th>post</th>\n",
       "      <th>score</th>\n",
       "      <th>subreddit</th>\n",
       "    </tr>\n",
       "  </thead>\n",
       "  <tbody>\n",
       "    <tr>\n",
       "      <th>0</th>\n",
       "      <td>refhkl</td>\n",
       "      <td>1639278068</td>\n",
       "      <td>Voici un livre incroyable, qui vous fera gagne...</td>\n",
       "      <td>1</td>\n",
       "      <td>Coffee</td>\n",
       "    </tr>\n",
       "    <tr>\n",
       "      <th>1</th>\n",
       "      <td>refe3x</td>\n",
       "      <td>1639277766</td>\n",
       "      <td>Hey all o/\\n\\nMy wife is amazing at making cof...</td>\n",
       "      <td>1</td>\n",
       "      <td>Coffee</td>\n",
       "    </tr>\n",
       "    <tr>\n",
       "      <th>2</th>\n",
       "      <td>ree76q</td>\n",
       "      <td>1639273771</td>\n",
       "      <td>So I've recently just started making my own co...</td>\n",
       "      <td>1</td>\n",
       "      <td>Coffee</td>\n",
       "    </tr>\n",
       "    <tr>\n",
       "      <th>3</th>\n",
       "      <td>redlcc</td>\n",
       "      <td>1639271750</td>\n",
       "      <td>Hello all!\\n\\nI have been doing some research,...</td>\n",
       "      <td>1</td>\n",
       "      <td>Coffee</td>\n",
       "    </tr>\n",
       "    <tr>\n",
       "      <th>4</th>\n",
       "      <td>red1px</td>\n",
       "      <td>1639270007</td>\n",
       "      <td>I’ve gotten pretty comfortable switching betwe...</td>\n",
       "      <td>1</td>\n",
       "      <td>Coffee</td>\n",
       "    </tr>\n",
       "  </tbody>\n",
       "</table>\n",
       "</div>"
      ],
      "text/plain": [
       "       id        date                                               post  \\\n",
       "0  refhkl  1639278068  Voici un livre incroyable, qui vous fera gagne...   \n",
       "1  refe3x  1639277766  Hey all o/\\n\\nMy wife is amazing at making cof...   \n",
       "2  ree76q  1639273771  So I've recently just started making my own co...   \n",
       "3  redlcc  1639271750  Hello all!\\n\\nI have been doing some research,...   \n",
       "4  red1px  1639270007  I’ve gotten pretty comfortable switching betwe...   \n",
       "\n",
       "   score subreddit  \n",
       "0      1    Coffee  \n",
       "1      1    Coffee  \n",
       "2      1    Coffee  \n",
       "3      1    Coffee  \n",
       "4      1    Coffee  "
      ]
     },
     "execution_count": 4,
     "metadata": {},
     "output_type": "execute_result"
    }
   ],
   "source": [
    "coffee.head()"
   ]
  },
  {
   "cell_type": "code",
   "execution_count": 5,
   "id": "1bbdc027-7fba-4cfb-8c79-37d82184c9b6",
   "metadata": {},
   "outputs": [
    {
     "data": {
      "text/html": [
       "<div>\n",
       "<style scoped>\n",
       "    .dataframe tbody tr th:only-of-type {\n",
       "        vertical-align: middle;\n",
       "    }\n",
       "\n",
       "    .dataframe tbody tr th {\n",
       "        vertical-align: top;\n",
       "    }\n",
       "\n",
       "    .dataframe thead th {\n",
       "        text-align: right;\n",
       "    }\n",
       "</style>\n",
       "<table border=\"1\" class=\"dataframe\">\n",
       "  <thead>\n",
       "    <tr style=\"text-align: right;\">\n",
       "      <th></th>\n",
       "      <th>Unnamed: 0</th>\n",
       "      <th>id</th>\n",
       "      <th>date</th>\n",
       "      <th>post</th>\n",
       "      <th>score</th>\n",
       "      <th>subreddit</th>\n",
       "    </tr>\n",
       "  </thead>\n",
       "  <tbody>\n",
       "    <tr>\n",
       "      <th>0</th>\n",
       "      <td>1</td>\n",
       "      <td>rdmw13</td>\n",
       "      <td>1639182291</td>\n",
       "      <td>hi im 17 and just broke up with my frist girl...</td>\n",
       "      <td>1</td>\n",
       "      <td>Tea</td>\n",
       "    </tr>\n",
       "    <tr>\n",
       "      <th>1</th>\n",
       "      <td>5</td>\n",
       "      <td>rdkm3p</td>\n",
       "      <td>1639175699</td>\n",
       "      <td>I'm wanting to buy a Gaiwan to start trying mo...</td>\n",
       "      <td>1</td>\n",
       "      <td>Tea</td>\n",
       "    </tr>\n",
       "    <tr>\n",
       "      <th>2</th>\n",
       "      <td>6</td>\n",
       "      <td>rdjrnq</td>\n",
       "      <td>1639173432</td>\n",
       "      <td>I do not enjoy drinking my tea out of metal cu...</td>\n",
       "      <td>1</td>\n",
       "      <td>Tea</td>\n",
       "    </tr>\n",
       "    <tr>\n",
       "      <th>3</th>\n",
       "      <td>8</td>\n",
       "      <td>rdhek3</td>\n",
       "      <td>1639167086</td>\n",
       "      <td>They now sell a couple of hei cha's including ...</td>\n",
       "      <td>1</td>\n",
       "      <td>Tea</td>\n",
       "    </tr>\n",
       "    <tr>\n",
       "      <th>4</th>\n",
       "      <td>15</td>\n",
       "      <td>rdc6gx</td>\n",
       "      <td>1639153097</td>\n",
       "      <td>Shortly after drinking it I get very drowsy, n...</td>\n",
       "      <td>1</td>\n",
       "      <td>Tea</td>\n",
       "    </tr>\n",
       "  </tbody>\n",
       "</table>\n",
       "</div>"
      ],
      "text/plain": [
       "   Unnamed: 0      id        date  \\\n",
       "0           1  rdmw13  1639182291   \n",
       "1           5  rdkm3p  1639175699   \n",
       "2           6  rdjrnq  1639173432   \n",
       "3           8  rdhek3  1639167086   \n",
       "4          15  rdc6gx  1639153097   \n",
       "\n",
       "                                                post  score subreddit  \n",
       "0   hi im 17 and just broke up with my frist girl...      1       Tea  \n",
       "1  I'm wanting to buy a Gaiwan to start trying mo...      1       Tea  \n",
       "2  I do not enjoy drinking my tea out of metal cu...      1       Tea  \n",
       "3  They now sell a couple of hei cha's including ...      1       Tea  \n",
       "4  Shortly after drinking it I get very drowsy, n...      1       Tea  "
      ]
     },
     "execution_count": 5,
     "metadata": {},
     "output_type": "execute_result"
    }
   ],
   "source": [
    "tea.head()"
   ]
  },
  {
   "cell_type": "code",
   "execution_count": 6,
   "id": "e080a314-849e-4781-a883-025f24d3f8f7",
   "metadata": {},
   "outputs": [
    {
     "data": {
      "text/plain": [
       "((15162, 5), (11879, 6))"
      ]
     },
     "execution_count": 6,
     "metadata": {},
     "output_type": "execute_result"
    }
   ],
   "source": [
    "coffee.shape, tea.shape"
   ]
  },
  {
   "cell_type": "code",
   "execution_count": 7,
   "id": "483f1007-6cd7-4609-9d7c-a41fcdebc510",
   "metadata": {},
   "outputs": [
    {
     "data": {
      "text/plain": [
       "id            0\n",
       "date          0\n",
       "post         96\n",
       "score         0\n",
       "subreddit     0\n",
       "dtype: int64"
      ]
     },
     "execution_count": 7,
     "metadata": {},
     "output_type": "execute_result"
    }
   ],
   "source": [
    "coffee.isnull().sum()"
   ]
  },
  {
   "cell_type": "code",
   "execution_count": 8,
   "id": "efe8941d-2350-4c3c-bf4a-d3ef9701e99e",
   "metadata": {},
   "outputs": [
    {
     "data": {
      "text/plain": [
       "Unnamed: 0     0\n",
       "id             0\n",
       "date           0\n",
       "post          21\n",
       "score          0\n",
       "subreddit      0\n",
       "dtype: int64"
      ]
     },
     "execution_count": 8,
     "metadata": {},
     "output_type": "execute_result"
    }
   ],
   "source": [
    "tea.isnull().sum()"
   ]
  },
  {
   "cell_type": "code",
   "execution_count": 9,
   "id": "0ed8a13a-d023-496f-8bb0-5ce1b67d5381",
   "metadata": {},
   "outputs": [],
   "source": [
    "coffee.dropna(inplace=True)\n",
    "tea.dropna(inplace=True)\n",
    "#get rid of rows with nulls"
   ]
  },
  {
   "cell_type": "code",
   "execution_count": 10,
   "id": "aaf34358-2708-459e-84d2-dde03fa6c52e",
   "metadata": {},
   "outputs": [
    {
     "data": {
      "text/plain": [
       "((15066, 5), (11858, 6))"
      ]
     },
     "execution_count": 10,
     "metadata": {},
     "output_type": "execute_result"
    }
   ],
   "source": [
    "coffee.shape, tea.shape"
   ]
  },
  {
   "cell_type": "code",
   "execution_count": 11,
   "id": "649036f5-da27-4dae-908f-72c6736d7857",
   "metadata": {},
   "outputs": [
    {
     "data": {
      "text/plain": [
       "(11858, 5)"
      ]
     },
     "execution_count": 11,
     "metadata": {},
     "output_type": "execute_result"
    }
   ],
   "source": [
    "coffee=coffee.drop(coffee.index[-3208:])\n",
    "coffee.shape\n",
    "#https://www.kite.com/python/answers/how-to-get-the-last-n-rows-from-a-pandas-dataframe-in-python\n",
    "#got rid of necessary amount of coffee rows in order to get equal posts."
   ]
  },
  {
   "cell_type": "code",
   "execution_count": 12,
   "id": "193f5bff-5c6e-426e-8e07-37654a54bd32",
   "metadata": {},
   "outputs": [
    {
     "data": {
      "text/html": [
       "<div>\n",
       "<style scoped>\n",
       "    .dataframe tbody tr th:only-of-type {\n",
       "        vertical-align: middle;\n",
       "    }\n",
       "\n",
       "    .dataframe tbody tr th {\n",
       "        vertical-align: top;\n",
       "    }\n",
       "\n",
       "    .dataframe thead th {\n",
       "        text-align: right;\n",
       "    }\n",
       "</style>\n",
       "<table border=\"1\" class=\"dataframe\">\n",
       "  <thead>\n",
       "    <tr style=\"text-align: right;\">\n",
       "      <th></th>\n",
       "      <th>Unnamed: 0</th>\n",
       "      <th>id</th>\n",
       "      <th>date</th>\n",
       "      <th>post</th>\n",
       "      <th>score</th>\n",
       "      <th>subreddit</th>\n",
       "    </tr>\n",
       "  </thead>\n",
       "  <tbody>\n",
       "    <tr>\n",
       "      <th>0</th>\n",
       "      <td>1</td>\n",
       "      <td>rdmw13</td>\n",
       "      <td>1639182291</td>\n",
       "      <td>hi im 17 and just broke up with my frist girl...</td>\n",
       "      <td>1</td>\n",
       "      <td>Tea</td>\n",
       "    </tr>\n",
       "    <tr>\n",
       "      <th>1</th>\n",
       "      <td>5</td>\n",
       "      <td>rdkm3p</td>\n",
       "      <td>1639175699</td>\n",
       "      <td>I'm wanting to buy a Gaiwan to start trying mo...</td>\n",
       "      <td>1</td>\n",
       "      <td>Tea</td>\n",
       "    </tr>\n",
       "    <tr>\n",
       "      <th>2</th>\n",
       "      <td>6</td>\n",
       "      <td>rdjrnq</td>\n",
       "      <td>1639173432</td>\n",
       "      <td>I do not enjoy drinking my tea out of metal cu...</td>\n",
       "      <td>1</td>\n",
       "      <td>Tea</td>\n",
       "    </tr>\n",
       "    <tr>\n",
       "      <th>3</th>\n",
       "      <td>8</td>\n",
       "      <td>rdhek3</td>\n",
       "      <td>1639167086</td>\n",
       "      <td>They now sell a couple of hei cha's including ...</td>\n",
       "      <td>1</td>\n",
       "      <td>Tea</td>\n",
       "    </tr>\n",
       "    <tr>\n",
       "      <th>4</th>\n",
       "      <td>15</td>\n",
       "      <td>rdc6gx</td>\n",
       "      <td>1639153097</td>\n",
       "      <td>Shortly after drinking it I get very drowsy, n...</td>\n",
       "      <td>1</td>\n",
       "      <td>Tea</td>\n",
       "    </tr>\n",
       "  </tbody>\n",
       "</table>\n",
       "</div>"
      ],
      "text/plain": [
       "   Unnamed: 0      id        date  \\\n",
       "0           1  rdmw13  1639182291   \n",
       "1           5  rdkm3p  1639175699   \n",
       "2           6  rdjrnq  1639173432   \n",
       "3           8  rdhek3  1639167086   \n",
       "4          15  rdc6gx  1639153097   \n",
       "\n",
       "                                                post  score subreddit  \n",
       "0   hi im 17 and just broke up with my frist girl...      1       Tea  \n",
       "1  I'm wanting to buy a Gaiwan to start trying mo...      1       Tea  \n",
       "2  I do not enjoy drinking my tea out of metal cu...      1       Tea  \n",
       "3  They now sell a couple of hei cha's including ...      1       Tea  \n",
       "4  Shortly after drinking it I get very drowsy, n...      1       Tea  "
      ]
     },
     "execution_count": 12,
     "metadata": {},
     "output_type": "execute_result"
    }
   ],
   "source": [
    "tea.head()"
   ]
  },
  {
   "cell_type": "code",
   "execution_count": 13,
   "id": "aa14451e-6dfb-429e-95fa-17a680dee863",
   "metadata": {},
   "outputs": [],
   "source": [
    "removed_coffee_drop=coffee[coffee['post']=='[removed]'].index\n",
    "coffee.drop(removed_coffee_drop,inplace=True)\n",
    "\n",
    "deleted_coffee_drop=coffee[coffee['post']=='[deleted]'].index\n",
    "coffee.drop(deleted_coffee_drop,inplace=True)\n",
    "#quiz 2 retake\n",
    "#dropped [removed] posts as they are the equivalent of nulls"
   ]
  },
  {
   "cell_type": "code",
   "execution_count": 14,
   "id": "9b8871ec-63fc-4c88-aaec-f60fe0a2e4a7",
   "metadata": {},
   "outputs": [],
   "source": [
    "removed_tea_drop=tea[tea['post']=='[removed]'].index\n",
    "tea.drop(removed_tea_drop,inplace=True)\n",
    "\n",
    "deleted_tea_drop=tea[tea['post']=='[deleted]'].index\n",
    "tea.drop(deleted_tea_drop,inplace=True)\n",
    "#quiz 2 retake\n",
    "#dropped [removed] posts as they are the equivalent of nulls"
   ]
  },
  {
   "cell_type": "code",
   "execution_count": 15,
   "id": "e865f2e9-0039-49a9-afa3-af37be44e502",
   "metadata": {},
   "outputs": [
    {
     "data": {
      "text/plain": [
       "((10706, 5), (9796, 6))"
      ]
     },
     "execution_count": 15,
     "metadata": {},
     "output_type": "execute_result"
    }
   ],
   "source": [
    "coffee.shape, tea.shape"
   ]
  },
  {
   "cell_type": "code",
   "execution_count": 16,
   "id": "79a1f6df-6c22-4b25-a379-0c57cc2532e5",
   "metadata": {},
   "outputs": [
    {
     "data": {
      "text/html": [
       "<div>\n",
       "<style scoped>\n",
       "    .dataframe tbody tr th:only-of-type {\n",
       "        vertical-align: middle;\n",
       "    }\n",
       "\n",
       "    .dataframe tbody tr th {\n",
       "        vertical-align: top;\n",
       "    }\n",
       "\n",
       "    .dataframe thead th {\n",
       "        text-align: right;\n",
       "    }\n",
       "</style>\n",
       "<table border=\"1\" class=\"dataframe\">\n",
       "  <thead>\n",
       "    <tr style=\"text-align: right;\">\n",
       "      <th></th>\n",
       "      <th>id</th>\n",
       "      <th>date</th>\n",
       "      <th>post</th>\n",
       "      <th>score</th>\n",
       "      <th>subreddit</th>\n",
       "    </tr>\n",
       "  </thead>\n",
       "  <tbody>\n",
       "    <tr>\n",
       "      <th>0</th>\n",
       "      <td>refhkl</td>\n",
       "      <td>1639278068</td>\n",
       "      <td>Voici un livre incroyable, qui vous fera gagne...</td>\n",
       "      <td>1</td>\n",
       "      <td>Coffee</td>\n",
       "    </tr>\n",
       "  </tbody>\n",
       "</table>\n",
       "</div>"
      ],
      "text/plain": [
       "       id        date                                               post  \\\n",
       "0  refhkl  1639278068  Voici un livre incroyable, qui vous fera gagne...   \n",
       "\n",
       "   score subreddit  \n",
       "0      1    Coffee  "
      ]
     },
     "execution_count": 16,
     "metadata": {},
     "output_type": "execute_result"
    }
   ],
   "source": [
    "coffee.head(1)"
   ]
  },
  {
   "cell_type": "code",
   "execution_count": 17,
   "id": "3eba2feb-6183-493f-a043-635f1b0a2290",
   "metadata": {},
   "outputs": [
    {
     "data": {
      "text/html": [
       "<div>\n",
       "<style scoped>\n",
       "    .dataframe tbody tr th:only-of-type {\n",
       "        vertical-align: middle;\n",
       "    }\n",
       "\n",
       "    .dataframe tbody tr th {\n",
       "        vertical-align: top;\n",
       "    }\n",
       "\n",
       "    .dataframe thead th {\n",
       "        text-align: right;\n",
       "    }\n",
       "</style>\n",
       "<table border=\"1\" class=\"dataframe\">\n",
       "  <thead>\n",
       "    <tr style=\"text-align: right;\">\n",
       "      <th></th>\n",
       "      <th>Unnamed: 0</th>\n",
       "      <th>id</th>\n",
       "      <th>date</th>\n",
       "      <th>post</th>\n",
       "      <th>score</th>\n",
       "      <th>subreddit</th>\n",
       "    </tr>\n",
       "  </thead>\n",
       "  <tbody>\n",
       "    <tr>\n",
       "      <th>0</th>\n",
       "      <td>1</td>\n",
       "      <td>rdmw13</td>\n",
       "      <td>1639182291</td>\n",
       "      <td>hi im 17 and just broke up with my frist girl...</td>\n",
       "      <td>1</td>\n",
       "      <td>Tea</td>\n",
       "    </tr>\n",
       "  </tbody>\n",
       "</table>\n",
       "</div>"
      ],
      "text/plain": [
       "   Unnamed: 0      id        date  \\\n",
       "0           1  rdmw13  1639182291   \n",
       "\n",
       "                                                post  score subreddit  \n",
       "0   hi im 17 and just broke up with my frist girl...      1       Tea  "
      ]
     },
     "execution_count": 17,
     "metadata": {},
     "output_type": "execute_result"
    }
   ],
   "source": [
    "tea.head(1)"
   ]
  },
  {
   "cell_type": "code",
   "execution_count": 18,
   "id": "e81d7d51-0ec3-4a50-a6b4-dd74c504c795",
   "metadata": {},
   "outputs": [
    {
     "data": {
      "text/plain": [
       "((9796, 5), (9796, 6))"
      ]
     },
     "execution_count": 18,
     "metadata": {},
     "output_type": "execute_result"
    }
   ],
   "source": [
    "coffee=coffee.drop(coffee.index[-910:])\n",
    "coffee.shape, tea.shape"
   ]
  },
  {
   "cell_type": "code",
   "execution_count": 19,
   "id": "0c19ba39-ba42-4603-bc93-aea931d094d0",
   "metadata": {},
   "outputs": [],
   "source": [
    "tea.to_csv('../data/tea_engineered.csv',index=False)"
   ]
  },
  {
   "cell_type": "code",
   "execution_count": 20,
   "id": "22952a9c-f25c-4e4b-bc07-c6e791986f87",
   "metadata": {},
   "outputs": [],
   "source": [
    "coffee.to_csv('../data/coffee_engineered.csv',index=False)"
   ]
  },
  {
   "cell_type": "code",
   "execution_count": 21,
   "id": "8cc35658-90ac-46b5-bba1-2b8248d6a6cf",
   "metadata": {},
   "outputs": [
    {
     "data": {
      "text/html": [
       "<div>\n",
       "<style scoped>\n",
       "    .dataframe tbody tr th:only-of-type {\n",
       "        vertical-align: middle;\n",
       "    }\n",
       "\n",
       "    .dataframe tbody tr th {\n",
       "        vertical-align: top;\n",
       "    }\n",
       "\n",
       "    .dataframe thead th {\n",
       "        text-align: right;\n",
       "    }\n",
       "</style>\n",
       "<table border=\"1\" class=\"dataframe\">\n",
       "  <thead>\n",
       "    <tr style=\"text-align: right;\">\n",
       "      <th></th>\n",
       "      <th>00</th>\n",
       "      <th>000</th>\n",
       "      <th>0004850020184</th>\n",
       "      <th>0005012_illy</th>\n",
       "      <th>000ish</th>\n",
       "      <th>000mg</th>\n",
       "      <th>000s</th>\n",
       "      <th>0013631_saeco</th>\n",
       "      <th>0023549b97b6d8b33449230513c44eda6341dca4</th>\n",
       "      <th>0042</th>\n",
       "      <th>...</th>\n",
       "      <th>школы</th>\n",
       "      <th>этапа</th>\n",
       "      <th>этапе</th>\n",
       "      <th>это</th>\n",
       "      <th>этой</th>\n",
       "      <th>этом</th>\n",
       "      <th>𝐀𝐧𝐭𝐢</th>\n",
       "      <th>𝐁𝐫𝐢𝐠𝐡𝐭𝐞𝐧𝐢𝐧𝐠</th>\n",
       "      <th>𝐚𝐠𝐢𝐧𝐠</th>\n",
       "      <th>𝐬𝐞𝐫𝐢𝐞𝐬</th>\n",
       "    </tr>\n",
       "  </thead>\n",
       "  <tbody>\n",
       "    <tr>\n",
       "      <th>0</th>\n",
       "      <td>0</td>\n",
       "      <td>0</td>\n",
       "      <td>0</td>\n",
       "      <td>0</td>\n",
       "      <td>0</td>\n",
       "      <td>0</td>\n",
       "      <td>0</td>\n",
       "      <td>0</td>\n",
       "      <td>0</td>\n",
       "      <td>0</td>\n",
       "      <td>...</td>\n",
       "      <td>0</td>\n",
       "      <td>0</td>\n",
       "      <td>0</td>\n",
       "      <td>0</td>\n",
       "      <td>0</td>\n",
       "      <td>0</td>\n",
       "      <td>0</td>\n",
       "      <td>0</td>\n",
       "      <td>0</td>\n",
       "      <td>0</td>\n",
       "    </tr>\n",
       "    <tr>\n",
       "      <th>1</th>\n",
       "      <td>0</td>\n",
       "      <td>0</td>\n",
       "      <td>0</td>\n",
       "      <td>0</td>\n",
       "      <td>0</td>\n",
       "      <td>0</td>\n",
       "      <td>0</td>\n",
       "      <td>0</td>\n",
       "      <td>0</td>\n",
       "      <td>0</td>\n",
       "      <td>...</td>\n",
       "      <td>0</td>\n",
       "      <td>0</td>\n",
       "      <td>0</td>\n",
       "      <td>0</td>\n",
       "      <td>0</td>\n",
       "      <td>0</td>\n",
       "      <td>0</td>\n",
       "      <td>0</td>\n",
       "      <td>0</td>\n",
       "      <td>0</td>\n",
       "    </tr>\n",
       "    <tr>\n",
       "      <th>2</th>\n",
       "      <td>0</td>\n",
       "      <td>0</td>\n",
       "      <td>0</td>\n",
       "      <td>0</td>\n",
       "      <td>0</td>\n",
       "      <td>0</td>\n",
       "      <td>0</td>\n",
       "      <td>0</td>\n",
       "      <td>0</td>\n",
       "      <td>0</td>\n",
       "      <td>...</td>\n",
       "      <td>0</td>\n",
       "      <td>0</td>\n",
       "      <td>0</td>\n",
       "      <td>0</td>\n",
       "      <td>0</td>\n",
       "      <td>0</td>\n",
       "      <td>0</td>\n",
       "      <td>0</td>\n",
       "      <td>0</td>\n",
       "      <td>0</td>\n",
       "    </tr>\n",
       "    <tr>\n",
       "      <th>3</th>\n",
       "      <td>0</td>\n",
       "      <td>0</td>\n",
       "      <td>0</td>\n",
       "      <td>0</td>\n",
       "      <td>0</td>\n",
       "      <td>0</td>\n",
       "      <td>0</td>\n",
       "      <td>0</td>\n",
       "      <td>0</td>\n",
       "      <td>0</td>\n",
       "      <td>...</td>\n",
       "      <td>0</td>\n",
       "      <td>0</td>\n",
       "      <td>0</td>\n",
       "      <td>0</td>\n",
       "      <td>0</td>\n",
       "      <td>0</td>\n",
       "      <td>0</td>\n",
       "      <td>0</td>\n",
       "      <td>0</td>\n",
       "      <td>0</td>\n",
       "    </tr>\n",
       "    <tr>\n",
       "      <th>4</th>\n",
       "      <td>0</td>\n",
       "      <td>0</td>\n",
       "      <td>0</td>\n",
       "      <td>0</td>\n",
       "      <td>0</td>\n",
       "      <td>0</td>\n",
       "      <td>0</td>\n",
       "      <td>0</td>\n",
       "      <td>0</td>\n",
       "      <td>0</td>\n",
       "      <td>...</td>\n",
       "      <td>0</td>\n",
       "      <td>0</td>\n",
       "      <td>0</td>\n",
       "      <td>0</td>\n",
       "      <td>0</td>\n",
       "      <td>0</td>\n",
       "      <td>0</td>\n",
       "      <td>0</td>\n",
       "      <td>0</td>\n",
       "      <td>0</td>\n",
       "    </tr>\n",
       "  </tbody>\n",
       "</table>\n",
       "<p>5 rows × 24488 columns</p>\n",
       "</div>"
      ],
      "text/plain": [
       "   00  000  0004850020184  0005012_illy  000ish  000mg  000s  0013631_saeco  \\\n",
       "0   0    0              0             0       0      0     0              0   \n",
       "1   0    0              0             0       0      0     0              0   \n",
       "2   0    0              0             0       0      0     0              0   \n",
       "3   0    0              0             0       0      0     0              0   \n",
       "4   0    0              0             0       0      0     0              0   \n",
       "\n",
       "   0023549b97b6d8b33449230513c44eda6341dca4  0042  ...  школы  этапа  этапе  \\\n",
       "0                                         0     0  ...      0      0      0   \n",
       "1                                         0     0  ...      0      0      0   \n",
       "2                                         0     0  ...      0      0      0   \n",
       "3                                         0     0  ...      0      0      0   \n",
       "4                                         0     0  ...      0      0      0   \n",
       "\n",
       "   это  этой  этом  𝐀𝐧𝐭𝐢  𝐁𝐫𝐢𝐠𝐡𝐭𝐞𝐧𝐢𝐧𝐠  𝐚𝐠𝐢𝐧𝐠  𝐬𝐞𝐫𝐢𝐞𝐬  \n",
       "0    0     0     0     0            0      0       0  \n",
       "1    0     0     0     0            0      0       0  \n",
       "2    0     0     0     0            0      0       0  \n",
       "3    0     0     0     0            0      0       0  \n",
       "4    0     0     0     0            0      0       0  \n",
       "\n",
       "[5 rows x 24488 columns]"
      ]
     },
     "execution_count": 21,
     "metadata": {},
     "output_type": "execute_result"
    }
   ],
   "source": [
    "cv=CountVectorizer()\n",
    "coffee_vect=cv.fit_transform(coffee['post'])\n",
    "coffee_vect_df=pd.DataFrame(coffee_vect.todense(), columns=cv.get_feature_names())\n",
    "coffee_vect_df.head()"
   ]
  },
  {
   "cell_type": "code",
   "execution_count": 22,
   "id": "69dc90ae-266c-4181-84a3-b6dc1f20c3b2",
   "metadata": {},
   "outputs": [
    {
     "data": {
      "text/html": [
       "<div>\n",
       "<style scoped>\n",
       "    .dataframe tbody tr th:only-of-type {\n",
       "        vertical-align: middle;\n",
       "    }\n",
       "\n",
       "    .dataframe tbody tr th {\n",
       "        vertical-align: top;\n",
       "    }\n",
       "\n",
       "    .dataframe thead th {\n",
       "        text-align: right;\n",
       "    }\n",
       "</style>\n",
       "<table border=\"1\" class=\"dataframe\">\n",
       "  <thead>\n",
       "    <tr style=\"text-align: right;\">\n",
       "      <th></th>\n",
       "      <th>00</th>\n",
       "      <th>000</th>\n",
       "      <th>0006</th>\n",
       "      <th>000ft</th>\n",
       "      <th>000pcs</th>\n",
       "      <th>002</th>\n",
       "      <th>00291</th>\n",
       "      <th>003</th>\n",
       "      <th>00373207</th>\n",
       "      <th>0041003</th>\n",
       "      <th>...</th>\n",
       "      <th>나왔다는</th>\n",
       "      <th>둥글래</th>\n",
       "      <th>문화가</th>\n",
       "      <th>신선차</th>\n",
       "      <th>아아</th>\n",
       "      <th>영국의</th>\n",
       "      <th>이것은마치</th>\n",
       "      <th>이야기</th>\n",
       "      <th>중국의</th>\n",
       "      <th>차문화에서</th>\n",
       "    </tr>\n",
       "  </thead>\n",
       "  <tbody>\n",
       "    <tr>\n",
       "      <th>0</th>\n",
       "      <td>0</td>\n",
       "      <td>0</td>\n",
       "      <td>0</td>\n",
       "      <td>0</td>\n",
       "      <td>0</td>\n",
       "      <td>0</td>\n",
       "      <td>0</td>\n",
       "      <td>0</td>\n",
       "      <td>0</td>\n",
       "      <td>0</td>\n",
       "      <td>...</td>\n",
       "      <td>0</td>\n",
       "      <td>0</td>\n",
       "      <td>0</td>\n",
       "      <td>0</td>\n",
       "      <td>0</td>\n",
       "      <td>0</td>\n",
       "      <td>0</td>\n",
       "      <td>0</td>\n",
       "      <td>0</td>\n",
       "      <td>0</td>\n",
       "    </tr>\n",
       "    <tr>\n",
       "      <th>1</th>\n",
       "      <td>0</td>\n",
       "      <td>0</td>\n",
       "      <td>0</td>\n",
       "      <td>0</td>\n",
       "      <td>0</td>\n",
       "      <td>0</td>\n",
       "      <td>0</td>\n",
       "      <td>0</td>\n",
       "      <td>0</td>\n",
       "      <td>0</td>\n",
       "      <td>...</td>\n",
       "      <td>0</td>\n",
       "      <td>0</td>\n",
       "      <td>0</td>\n",
       "      <td>0</td>\n",
       "      <td>0</td>\n",
       "      <td>0</td>\n",
       "      <td>0</td>\n",
       "      <td>0</td>\n",
       "      <td>0</td>\n",
       "      <td>0</td>\n",
       "    </tr>\n",
       "    <tr>\n",
       "      <th>2</th>\n",
       "      <td>0</td>\n",
       "      <td>0</td>\n",
       "      <td>0</td>\n",
       "      <td>0</td>\n",
       "      <td>0</td>\n",
       "      <td>0</td>\n",
       "      <td>0</td>\n",
       "      <td>0</td>\n",
       "      <td>0</td>\n",
       "      <td>0</td>\n",
       "      <td>...</td>\n",
       "      <td>0</td>\n",
       "      <td>0</td>\n",
       "      <td>0</td>\n",
       "      <td>0</td>\n",
       "      <td>0</td>\n",
       "      <td>0</td>\n",
       "      <td>0</td>\n",
       "      <td>0</td>\n",
       "      <td>0</td>\n",
       "      <td>0</td>\n",
       "    </tr>\n",
       "    <tr>\n",
       "      <th>3</th>\n",
       "      <td>0</td>\n",
       "      <td>0</td>\n",
       "      <td>0</td>\n",
       "      <td>0</td>\n",
       "      <td>0</td>\n",
       "      <td>0</td>\n",
       "      <td>0</td>\n",
       "      <td>0</td>\n",
       "      <td>0</td>\n",
       "      <td>0</td>\n",
       "      <td>...</td>\n",
       "      <td>0</td>\n",
       "      <td>0</td>\n",
       "      <td>0</td>\n",
       "      <td>0</td>\n",
       "      <td>0</td>\n",
       "      <td>0</td>\n",
       "      <td>0</td>\n",
       "      <td>0</td>\n",
       "      <td>0</td>\n",
       "      <td>0</td>\n",
       "    </tr>\n",
       "    <tr>\n",
       "      <th>4</th>\n",
       "      <td>0</td>\n",
       "      <td>0</td>\n",
       "      <td>0</td>\n",
       "      <td>0</td>\n",
       "      <td>0</td>\n",
       "      <td>0</td>\n",
       "      <td>0</td>\n",
       "      <td>0</td>\n",
       "      <td>0</td>\n",
       "      <td>0</td>\n",
       "      <td>...</td>\n",
       "      <td>0</td>\n",
       "      <td>0</td>\n",
       "      <td>0</td>\n",
       "      <td>0</td>\n",
       "      <td>0</td>\n",
       "      <td>0</td>\n",
       "      <td>0</td>\n",
       "      <td>0</td>\n",
       "      <td>0</td>\n",
       "      <td>0</td>\n",
       "    </tr>\n",
       "  </tbody>\n",
       "</table>\n",
       "<p>5 rows × 21699 columns</p>\n",
       "</div>"
      ],
      "text/plain": [
       "   00  000  0006  000ft  000pcs  002  00291  003  00373207  0041003  ...  \\\n",
       "0   0    0     0      0       0    0      0    0         0        0  ...   \n",
       "1   0    0     0      0       0    0      0    0         0        0  ...   \n",
       "2   0    0     0      0       0    0      0    0         0        0  ...   \n",
       "3   0    0     0      0       0    0      0    0         0        0  ...   \n",
       "4   0    0     0      0       0    0      0    0         0        0  ...   \n",
       "\n",
       "   나왔다는  둥글래  문화가  신선차  아아  영국의  이것은마치  이야기  중국의  차문화에서  \n",
       "0     0    0    0    0   0    0      0    0    0      0  \n",
       "1     0    0    0    0   0    0      0    0    0      0  \n",
       "2     0    0    0    0   0    0      0    0    0      0  \n",
       "3     0    0    0    0   0    0      0    0    0      0  \n",
       "4     0    0    0    0   0    0      0    0    0      0  \n",
       "\n",
       "[5 rows x 21699 columns]"
      ]
     },
     "execution_count": 22,
     "metadata": {},
     "output_type": "execute_result"
    }
   ],
   "source": [
    "tea_vect=cv.fit_transform(tea['post'])\n",
    "tea_vect_df = pd.DataFrame(tea_vect.todense(), columns=cv.get_feature_names())\n",
    "tea_vect_df.head()"
   ]
  },
  {
   "cell_type": "code",
   "execution_count": 23,
   "id": "53f7ba6f-b5c1-409d-8ef1-3a64e62b64d0",
   "metadata": {},
   "outputs": [
    {
     "data": {
      "image/png": "[encoded data removed]",
      "text/plain": [
       "<Figure size 1152x432 with 2 Axes>"
      ]
     },
     "metadata": {
      "needs_background": "light"
     },
     "output_type": "display_data"
    }
   ],
   "source": [
    "fig, ax = plt.subplots(1, 2, figsize=(16,6))\n",
    "coffee_vect_df.sum().sort_values(ascending=False).head(15).plot(kind='barh', ax=ax[0], fontsize=14, color = 'firebrick')\n",
    "tea_vect_df.sum().sort_values(ascending=False).head(15).plot(kind='barh', ax=ax[1], fontsize=14, color = 'darkblue')\n",
    "\n",
    "ax[0].set_title('Coffee', fontsize=18)\n",
    "ax[1].set_title('Tea', fontsize=18)\n",
    "ax[0].invert_yaxis()\n",
    "ax[1].invert_yaxis()\n",
    "\n",
    "fig.suptitle('Top 15 Words', fontsize=22)\n",
    "fig.text(0.5, 0.04, 'Number of Occurences', \n",
    "         ha='center', fontsize=18);\n",
    "plt.savefig('../images/top15words.png')\n",
    "#week 7 breakfast hour"
   ]
  },
  {
   "cell_type": "markdown",
   "id": "e68ba2cf-6c1e-4f9f-a49d-f7f97ad8aba8",
   "metadata": {},
   "source": [
    "We can see that words like \"the\", \"to\",\"and\",\"it round out most of the top five.  We can see it diverges with the words coffee and tea respectively, which makes sense as they are the subject matter in the subreddits. "
   ]
  },
  {
   "cell_type": "code",
   "execution_count": 24,
   "id": "3b39f375-2753-4619-8576-a3afd52afecf",
   "metadata": {},
   "outputs": [],
   "source": [
    "cvw=CountVectorizer(stop_words='english', ngram_range=(2,2))\n",
    "\n",
    "tea_vect2=cvw.fit_transform(tea['post'])\n",
    "tea_vect2_df = pd.DataFrame(tea_vect2.todense(), columns=cvw.get_feature_names())\n",
    "\n",
    "coffee_vect2=cvw.fit_transform(coffee['post'])\n",
    "coffee_vect2_df=pd.DataFrame(coffee_vect2.todense(), columns=cvw.get_feature_names())\n",
    "#week 7 breakfast hour"
   ]
  },
  {
   "cell_type": "code",
   "execution_count": 25,
   "id": "7bf901a5-667c-4e66-ac30-bc911857abf8",
   "metadata": {},
   "outputs": [
    {
     "data": {
      "image/png": "[encoded data removed]",
      "text/plain": [
       "<Figure size 1152x432 with 2 Axes>"
      ]
     },
     "metadata": {
      "needs_background": "light"
     },
     "output_type": "display_data"
    }
   ],
   "source": [
    "fig, ax = plt.subplots(1,2,figsize=(16,6))\n",
    "coffee_vect2_df.sum().sort_values(ascending=False).head(15).plot(kind='barh', ax=ax[0],\n",
    "                                                                fontsize=12, color='firebrick')\n",
    "tea_vect2_df.sum().sort_values(ascending=False).head(15).plot(kind='barh', ax=ax[1],\n",
    "                                                             fontsize=12, color = 'darkblue')\n",
    "\n",
    "ax[0].set_title('Coffee', fontsize= 18)\n",
    "ax[1].set_title('Tea', fontsize =18)\n",
    "ax[0].invert_yaxis()\n",
    "ax[1].invert_yaxis()\n",
    "\n",
    "fig.suptitle('Top 15 Word Pairs(No stop words)', fontsize=22)\n",
    "fig.text(.5,.04, 'Frequency', ha='center', fontsize=18);\n",
    "plt.savefig('../images/top15wordpairs_nosw.png')\n",
    "#week 7 breakfast hour"
   ]
  },
  {
   "cell_type": "markdown",
   "id": "79d9e064-b2da-4469-9b37-d5f7506758ce",
   "metadata": {},
   "source": [
    "When we filter out the stop words and add a bit more context by looking at word pairings, we can see that in the coffee subreddit there is a strong presence with brewing methods such as \"french press, espresso machine, cold brew, moka pot and coffee maker\".  Whereas in the tea subreddit its more about the product itself \"green tea, black tea, loose leaf, ve oolong\".  "
   ]
  },
  {
   "cell_type": "code",
   "execution_count": 26,
   "id": "91eefa71-622c-4235-ae0d-97f73079d80a",
   "metadata": {},
   "outputs": [],
   "source": [
    "coffee['post_len'] = coffee['post'].apply(len)\n",
    "tea['post_len']=tea['post'].apply(len)\n",
    "#week 7 breakfast hour"
   ]
  },
  {
   "cell_type": "code",
   "execution_count": 27,
   "id": "de57923d-3983-4020-a728-4c5d5d480535",
   "metadata": {},
   "outputs": [],
   "source": [
    "coffee['word_count']=coffee['post'].apply(lambda x:len(x.split()))\n",
    "tea['word_count']=tea['post'].apply(lambda x:len(x.split()))\n",
    "#week 7 breakfast hour"
   ]
  },
  {
   "cell_type": "code",
   "execution_count": 28,
   "id": "553f8201-ea22-48a5-a895-b4e6c4d6b861",
   "metadata": {},
   "outputs": [
    {
     "data": {
      "text/html": [
       "<div>\n",
       "<style scoped>\n",
       "    .dataframe tbody tr th:only-of-type {\n",
       "        vertical-align: middle;\n",
       "    }\n",
       "\n",
       "    .dataframe tbody tr th {\n",
       "        vertical-align: top;\n",
       "    }\n",
       "\n",
       "    .dataframe thead th {\n",
       "        text-align: right;\n",
       "    }\n",
       "</style>\n",
       "<table border=\"1\" class=\"dataframe\">\n",
       "  <thead>\n",
       "    <tr style=\"text-align: right;\">\n",
       "      <th></th>\n",
       "      <th>id</th>\n",
       "      <th>date</th>\n",
       "      <th>post</th>\n",
       "      <th>score</th>\n",
       "      <th>subreddit</th>\n",
       "      <th>post_len</th>\n",
       "      <th>word_count</th>\n",
       "    </tr>\n",
       "  </thead>\n",
       "  <tbody>\n",
       "    <tr>\n",
       "      <th>0</th>\n",
       "      <td>refhkl</td>\n",
       "      <td>1639278068</td>\n",
       "      <td>Voici un livre incroyable, qui vous fera gagne...</td>\n",
       "      <td>1</td>\n",
       "      <td>Coffee</td>\n",
       "      <td>648</td>\n",
       "      <td>45</td>\n",
       "    </tr>\n",
       "  </tbody>\n",
       "</table>\n",
       "</div>"
      ],
      "text/plain": [
       "       id        date                                               post  \\\n",
       "0  refhkl  1639278068  Voici un livre incroyable, qui vous fera gagne...   \n",
       "\n",
       "   score subreddit  post_len  word_count  \n",
       "0      1    Coffee       648          45  "
      ]
     },
     "execution_count": 28,
     "metadata": {},
     "output_type": "execute_result"
    }
   ],
   "source": [
    "coffee.head(1)"
   ]
  },
  {
   "cell_type": "code",
   "execution_count": 29,
   "id": "98b47253-3850-4818-92de-2812060c87c6",
   "metadata": {},
   "outputs": [
    {
     "data": {
      "text/html": [
       "<div>\n",
       "<style scoped>\n",
       "    .dataframe tbody tr th:only-of-type {\n",
       "        vertical-align: middle;\n",
       "    }\n",
       "\n",
       "    .dataframe tbody tr th {\n",
       "        vertical-align: top;\n",
       "    }\n",
       "\n",
       "    .dataframe thead th {\n",
       "        text-align: right;\n",
       "    }\n",
       "</style>\n",
       "<table border=\"1\" class=\"dataframe\">\n",
       "  <thead>\n",
       "    <tr style=\"text-align: right;\">\n",
       "      <th></th>\n",
       "      <th>Unnamed: 0</th>\n",
       "      <th>id</th>\n",
       "      <th>date</th>\n",
       "      <th>post</th>\n",
       "      <th>score</th>\n",
       "      <th>subreddit</th>\n",
       "      <th>post_len</th>\n",
       "      <th>word_count</th>\n",
       "    </tr>\n",
       "  </thead>\n",
       "  <tbody>\n",
       "    <tr>\n",
       "      <th>0</th>\n",
       "      <td>1</td>\n",
       "      <td>rdmw13</td>\n",
       "      <td>1639182291</td>\n",
       "      <td>hi im 17 and just broke up with my frist girl...</td>\n",
       "      <td>1</td>\n",
       "      <td>Tea</td>\n",
       "      <td>103</td>\n",
       "      <td>22</td>\n",
       "    </tr>\n",
       "  </tbody>\n",
       "</table>\n",
       "</div>"
      ],
      "text/plain": [
       "   Unnamed: 0      id        date  \\\n",
       "0           1  rdmw13  1639182291   \n",
       "\n",
       "                                                post  score subreddit  \\\n",
       "0   hi im 17 and just broke up with my frist girl...      1       Tea   \n",
       "\n",
       "   post_len  word_count  \n",
       "0       103          22  "
      ]
     },
     "execution_count": 29,
     "metadata": {},
     "output_type": "execute_result"
    }
   ],
   "source": [
    "tea.head(1)"
   ]
  },
  {
   "cell_type": "code",
   "execution_count": 30,
   "id": "05ccb8ef-93db-410d-b353-1ac8bf77abc0",
   "metadata": {},
   "outputs": [
    {
     "data": {
      "image/png": "[encoded data removed]",
      "text/plain": [
       "<Figure size 1152x432 with 2 Axes>"
      ]
     },
     "metadata": {
      "needs_background": "light"
     },
     "output_type": "display_data"
    }
   ],
   "source": [
    "fig, ax = plt.subplots(1, 2, figsize=(16,6))\n",
    "sns.histplot(coffee['word_count'], ax=ax[0], color ='tomato')\n",
    "sns.histplot(tea['word_count'], ax=ax[1], color = 'cornflowerblue')\n",
    "ax[0].set(xlabel=\"Word Count\", ylabel='Count', title='Coffee Word Count')\n",
    "ax[1].set(xlabel=\"Word Count\", ylabel='Count', title='Tea Word Count')\n",
    "\n",
    "fig.suptitle('Word Count Distributions', fontsize=22);\n",
    "plt.savefig('../images/wordcountdistributions.png')"
   ]
  },
  {
   "cell_type": "markdown",
   "id": "d0e0f133-3012-4958-969d-c68490714596",
   "metadata": {},
   "source": [
    "When comparing the word count distributions for each subreddit, you can see two examples of extremely right-skewed distributions.  People tend to write less than 500 word messages on both subreddits. "
   ]
  },
  {
   "cell_type": "code",
   "execution_count": 31,
   "id": "40b309d5-c220-4bcd-b9fb-61691a290054",
   "metadata": {},
   "outputs": [
    {
     "data": {
      "image/png": "[encoded data removed]",
      "text/plain": [
       "<Figure size 1152x432 with 2 Axes>"
      ]
     },
     "metadata": {
      "needs_background": "light"
     },
     "output_type": "display_data"
    }
   ],
   "source": [
    "fig, ax = plt.subplots(1, 2, figsize=(16,6))\n",
    "sns.histplot(coffee['post_len'], ax=ax[0], color ='tomato')\n",
    "sns.histplot(tea['post_len'], ax=ax[1], color = 'cornflowerblue')\n",
    "ax[0].set(xlabel=\"Length of Posts\", ylabel='Count', title='Length of Coffee Posts')\n",
    "ax[1].set(xlabel=\"Length of Posts\", ylabel='Count', title='Length of Tea Posts')\n",
    "\n",
    "fig.suptitle('Character Length Distributions', fontsize=22);\n",
    "plt.savefig('../images/len_of_char_hists.png')"
   ]
  },
  {
   "cell_type": "markdown",
   "id": "b05435de-b97d-41a7-a227-de2c83efdac5",
   "metadata": {},
   "source": [
    "The distributions for length of each posts closely shadows the word count distribution. Length of posts look to be slightly higher in the coffee subreddit(Coffee median of 439 over tea median 356)."
   ]
  },
  {
   "cell_type": "code",
   "execution_count": 32,
   "id": "d493b4ac-b949-4aa9-9410-4ee6f8af1665",
   "metadata": {},
   "outputs": [
    {
     "data": {
      "text/html": [
       "<div>\n",
       "<style scoped>\n",
       "    .dataframe tbody tr th:only-of-type {\n",
       "        vertical-align: middle;\n",
       "    }\n",
       "\n",
       "    .dataframe tbody tr th {\n",
       "        vertical-align: top;\n",
       "    }\n",
       "\n",
       "    .dataframe thead th {\n",
       "        text-align: right;\n",
       "    }\n",
       "</style>\n",
       "<table border=\"1\" class=\"dataframe\">\n",
       "  <thead>\n",
       "    <tr style=\"text-align: right;\">\n",
       "      <th></th>\n",
       "      <th>date</th>\n",
       "      <th>score</th>\n",
       "      <th>post_len</th>\n",
       "      <th>word_count</th>\n",
       "    </tr>\n",
       "  </thead>\n",
       "  <tbody>\n",
       "    <tr>\n",
       "      <th>count</th>\n",
       "      <td>9.796000e+03</td>\n",
       "      <td>9796.000000</td>\n",
       "      <td>9796.000000</td>\n",
       "      <td>9796.000000</td>\n",
       "    </tr>\n",
       "    <tr>\n",
       "      <th>mean</th>\n",
       "      <td>1.628382e+09</td>\n",
       "      <td>1.236117</td>\n",
       "      <td>597.591670</td>\n",
       "      <td>105.990710</td>\n",
       "    </tr>\n",
       "    <tr>\n",
       "      <th>std</th>\n",
       "      <td>6.452383e+06</td>\n",
       "      <td>5.530839</td>\n",
       "      <td>678.918726</td>\n",
       "      <td>115.727035</td>\n",
       "    </tr>\n",
       "    <tr>\n",
       "      <th>min</th>\n",
       "      <td>1.617322e+09</td>\n",
       "      <td>0.000000</td>\n",
       "      <td>1.000000</td>\n",
       "      <td>1.000000</td>\n",
       "    </tr>\n",
       "    <tr>\n",
       "      <th>25%</th>\n",
       "      <td>1.622552e+09</td>\n",
       "      <td>1.000000</td>\n",
       "      <td>258.750000</td>\n",
       "      <td>47.000000</td>\n",
       "    </tr>\n",
       "    <tr>\n",
       "      <th>50%</th>\n",
       "      <td>1.628398e+09</td>\n",
       "      <td>1.000000</td>\n",
       "      <td>439.000000</td>\n",
       "      <td>80.000000</td>\n",
       "    </tr>\n",
       "    <tr>\n",
       "      <th>75%</th>\n",
       "      <td>1.634139e+09</td>\n",
       "      <td>1.000000</td>\n",
       "      <td>744.000000</td>\n",
       "      <td>135.000000</td>\n",
       "    </tr>\n",
       "    <tr>\n",
       "      <th>max</th>\n",
       "      <td>1.639278e+09</td>\n",
       "      <td>389.000000</td>\n",
       "      <td>33220.000000</td>\n",
       "      <td>5492.000000</td>\n",
       "    </tr>\n",
       "  </tbody>\n",
       "</table>\n",
       "</div>"
      ],
      "text/plain": [
       "               date        score      post_len   word_count\n",
       "count  9.796000e+03  9796.000000   9796.000000  9796.000000\n",
       "mean   1.628382e+09     1.236117    597.591670   105.990710\n",
       "std    6.452383e+06     5.530839    678.918726   115.727035\n",
       "min    1.617322e+09     0.000000      1.000000     1.000000\n",
       "25%    1.622552e+09     1.000000    258.750000    47.000000\n",
       "50%    1.628398e+09     1.000000    439.000000    80.000000\n",
       "75%    1.634139e+09     1.000000    744.000000   135.000000\n",
       "max    1.639278e+09   389.000000  33220.000000  5492.000000"
      ]
     },
     "execution_count": 32,
     "metadata": {},
     "output_type": "execute_result"
    }
   ],
   "source": [
    "coffee.describe()"
   ]
  },
  {
   "cell_type": "code",
   "execution_count": 33,
   "id": "7a990bde-a976-4402-a47c-9193004725cb",
   "metadata": {},
   "outputs": [
    {
     "data": {
      "text/html": [
       "<div>\n",
       "<style scoped>\n",
       "    .dataframe tbody tr th:only-of-type {\n",
       "        vertical-align: middle;\n",
       "    }\n",
       "\n",
       "    .dataframe tbody tr th {\n",
       "        vertical-align: top;\n",
       "    }\n",
       "\n",
       "    .dataframe thead th {\n",
       "        text-align: right;\n",
       "    }\n",
       "</style>\n",
       "<table border=\"1\" class=\"dataframe\">\n",
       "  <thead>\n",
       "    <tr style=\"text-align: right;\">\n",
       "      <th></th>\n",
       "      <th>Unnamed: 0</th>\n",
       "      <th>date</th>\n",
       "      <th>score</th>\n",
       "      <th>post_len</th>\n",
       "      <th>word_count</th>\n",
       "    </tr>\n",
       "  </thead>\n",
       "  <tbody>\n",
       "    <tr>\n",
       "      <th>count</th>\n",
       "      <td>9796.000000</td>\n",
       "      <td>9.796000e+03</td>\n",
       "      <td>9796.000000</td>\n",
       "      <td>9796.000000</td>\n",
       "      <td>9796.000000</td>\n",
       "    </tr>\n",
       "    <tr>\n",
       "      <th>mean</th>\n",
       "      <td>49.985300</td>\n",
       "      <td>1.609409e+09</td>\n",
       "      <td>1.250000</td>\n",
       "      <td>456.465904</td>\n",
       "      <td>82.101368</td>\n",
       "    </tr>\n",
       "    <tr>\n",
       "      <th>std</th>\n",
       "      <td>28.658949</td>\n",
       "      <td>1.725024e+07</td>\n",
       "      <td>2.132199</td>\n",
       "      <td>491.751185</td>\n",
       "      <td>85.971668</td>\n",
       "    </tr>\n",
       "    <tr>\n",
       "      <th>min</th>\n",
       "      <td>0.000000</td>\n",
       "      <td>1.577825e+09</td>\n",
       "      <td>0.000000</td>\n",
       "      <td>1.000000</td>\n",
       "      <td>1.000000</td>\n",
       "    </tr>\n",
       "    <tr>\n",
       "      <th>25%</th>\n",
       "      <td>25.000000</td>\n",
       "      <td>1.595343e+09</td>\n",
       "      <td>1.000000</td>\n",
       "      <td>204.750000</td>\n",
       "      <td>37.000000</td>\n",
       "    </tr>\n",
       "    <tr>\n",
       "      <th>50%</th>\n",
       "      <td>50.000000</td>\n",
       "      <td>1.609319e+09</td>\n",
       "      <td>1.000000</td>\n",
       "      <td>356.000000</td>\n",
       "      <td>65.000000</td>\n",
       "    </tr>\n",
       "    <tr>\n",
       "      <th>75%</th>\n",
       "      <td>75.000000</td>\n",
       "      <td>1.624056e+09</td>\n",
       "      <td>1.000000</td>\n",
       "      <td>533.000000</td>\n",
       "      <td>97.000000</td>\n",
       "    </tr>\n",
       "    <tr>\n",
       "      <th>max</th>\n",
       "      <td>99.000000</td>\n",
       "      <td>1.639182e+09</td>\n",
       "      <td>130.000000</td>\n",
       "      <td>12367.000000</td>\n",
       "      <td>2166.000000</td>\n",
       "    </tr>\n",
       "  </tbody>\n",
       "</table>\n",
       "</div>"
      ],
      "text/plain": [
       "        Unnamed: 0          date        score      post_len   word_count\n",
       "count  9796.000000  9.796000e+03  9796.000000   9796.000000  9796.000000\n",
       "mean     49.985300  1.609409e+09     1.250000    456.465904    82.101368\n",
       "std      28.658949  1.725024e+07     2.132199    491.751185    85.971668\n",
       "min       0.000000  1.577825e+09     0.000000      1.000000     1.000000\n",
       "25%      25.000000  1.595343e+09     1.000000    204.750000    37.000000\n",
       "50%      50.000000  1.609319e+09     1.000000    356.000000    65.000000\n",
       "75%      75.000000  1.624056e+09     1.000000    533.000000    97.000000\n",
       "max      99.000000  1.639182e+09   130.000000  12367.000000  2166.000000"
      ]
     },
     "execution_count": 33,
     "metadata": {},
     "output_type": "execute_result"
    }
   ],
   "source": [
    "tea.describe()"
   ]
  },
  {
   "cell_type": "code",
   "execution_count": 34,
   "id": "a7b40693-fbba-430a-bb41-cab6f4ad2cc9",
   "metadata": {},
   "outputs": [
    {
     "data": {
      "text/plain": [
       "(19592, 8)"
      ]
     },
     "execution_count": 34,
     "metadata": {},
     "output_type": "execute_result"
    }
   ],
   "source": [
    "coffee_tea=pd.concat([coffee,tea], axis=0)\n",
    "coffee_tea.shape\n",
    "#https://www.geeksforgeeks.org/merge-two-dataframes-with-same-column-names/\n",
    "#concatenated both subreddit posts df"
   ]
  },
  {
   "cell_type": "code",
   "execution_count": 35,
   "id": "d9ded812-4ef4-4277-91c2-d47b461d878a",
   "metadata": {},
   "outputs": [],
   "source": [
    "coffee_tea.to_csv('../data/coffee_tea.csv',index=False)\n"
   ]
  },
  {
   "cell_type": "code",
   "execution_count": 36,
   "id": "1abc641f-fd40-42b1-9bd5-5b4d221dcc33",
   "metadata": {},
   "outputs": [
    {
     "data": {
      "text/html": [
       "<div>\n",
       "<style scoped>\n",
       "    .dataframe tbody tr th:only-of-type {\n",
       "        vertical-align: middle;\n",
       "    }\n",
       "\n",
       "    .dataframe tbody tr th {\n",
       "        vertical-align: top;\n",
       "    }\n",
       "\n",
       "    .dataframe thead th {\n",
       "        text-align: right;\n",
       "    }\n",
       "</style>\n",
       "<table border=\"1\" class=\"dataframe\">\n",
       "  <thead>\n",
       "    <tr style=\"text-align: right;\">\n",
       "      <th></th>\n",
       "      <th>id</th>\n",
       "      <th>date</th>\n",
       "      <th>post</th>\n",
       "      <th>score</th>\n",
       "      <th>subreddit</th>\n",
       "      <th>post_len</th>\n",
       "      <th>word_count</th>\n",
       "      <th>Unnamed: 0</th>\n",
       "    </tr>\n",
       "  </thead>\n",
       "  <tbody>\n",
       "    <tr>\n",
       "      <th>0</th>\n",
       "      <td>refhkl</td>\n",
       "      <td>1639278068</td>\n",
       "      <td>Voici un livre incroyable, qui vous fera gagne...</td>\n",
       "      <td>1</td>\n",
       "      <td>Coffee</td>\n",
       "      <td>648</td>\n",
       "      <td>45</td>\n",
       "      <td>NaN</td>\n",
       "    </tr>\n",
       "    <tr>\n",
       "      <th>1</th>\n",
       "      <td>refe3x</td>\n",
       "      <td>1639277766</td>\n",
       "      <td>Hey all o/\\n\\nMy wife is amazing at making cof...</td>\n",
       "      <td>1</td>\n",
       "      <td>Coffee</td>\n",
       "      <td>1332</td>\n",
       "      <td>243</td>\n",
       "      <td>NaN</td>\n",
       "    </tr>\n",
       "    <tr>\n",
       "      <th>2</th>\n",
       "      <td>ree76q</td>\n",
       "      <td>1639273771</td>\n",
       "      <td>So I've recently just started making my own co...</td>\n",
       "      <td>1</td>\n",
       "      <td>Coffee</td>\n",
       "      <td>228</td>\n",
       "      <td>40</td>\n",
       "      <td>NaN</td>\n",
       "    </tr>\n",
       "    <tr>\n",
       "      <th>3</th>\n",
       "      <td>redlcc</td>\n",
       "      <td>1639271750</td>\n",
       "      <td>Hello all!\\n\\nI have been doing some research,...</td>\n",
       "      <td>1</td>\n",
       "      <td>Coffee</td>\n",
       "      <td>655</td>\n",
       "      <td>119</td>\n",
       "      <td>NaN</td>\n",
       "    </tr>\n",
       "    <tr>\n",
       "      <th>4</th>\n",
       "      <td>red1px</td>\n",
       "      <td>1639270007</td>\n",
       "      <td>I’ve gotten pretty comfortable switching betwe...</td>\n",
       "      <td>1</td>\n",
       "      <td>Coffee</td>\n",
       "      <td>598</td>\n",
       "      <td>108</td>\n",
       "      <td>NaN</td>\n",
       "    </tr>\n",
       "  </tbody>\n",
       "</table>\n",
       "</div>"
      ],
      "text/plain": [
       "       id        date                                               post  \\\n",
       "0  refhkl  1639278068  Voici un livre incroyable, qui vous fera gagne...   \n",
       "1  refe3x  1639277766  Hey all o/\\n\\nMy wife is amazing at making cof...   \n",
       "2  ree76q  1639273771  So I've recently just started making my own co...   \n",
       "3  redlcc  1639271750  Hello all!\\n\\nI have been doing some research,...   \n",
       "4  red1px  1639270007  I’ve gotten pretty comfortable switching betwe...   \n",
       "\n",
       "   score subreddit  post_len  word_count  Unnamed: 0  \n",
       "0      1    Coffee       648          45         NaN  \n",
       "1      1    Coffee      1332         243         NaN  \n",
       "2      1    Coffee       228          40         NaN  \n",
       "3      1    Coffee       655         119         NaN  \n",
       "4      1    Coffee       598         108         NaN  "
      ]
     },
     "execution_count": 36,
     "metadata": {},
     "output_type": "execute_result"
    }
   ],
   "source": [
    "coffee_tea.head()"
   ]
  },
  {
   "cell_type": "code",
   "execution_count": 37,
   "id": "13caafa0-1e35-41e5-b072-003eb2c58ba7",
   "metadata": {},
   "outputs": [
    {
     "data": {
      "text/html": [
       "<div>\n",
       "<style scoped>\n",
       "    .dataframe tbody tr th:only-of-type {\n",
       "        vertical-align: middle;\n",
       "    }\n",
       "\n",
       "    .dataframe tbody tr th {\n",
       "        vertical-align: top;\n",
       "    }\n",
       "\n",
       "    .dataframe thead th {\n",
       "        text-align: right;\n",
       "    }\n",
       "</style>\n",
       "<table border=\"1\" class=\"dataframe\">\n",
       "  <thead>\n",
       "    <tr style=\"text-align: right;\">\n",
       "      <th></th>\n",
       "      <th>post</th>\n",
       "      <th>subreddit</th>\n",
       "      <th>post_len</th>\n",
       "      <th>word_count</th>\n",
       "    </tr>\n",
       "  </thead>\n",
       "  <tbody>\n",
       "    <tr>\n",
       "      <th>0</th>\n",
       "      <td>Voici un livre incroyable, qui vous fera gagne...</td>\n",
       "      <td>Coffee</td>\n",
       "      <td>648</td>\n",
       "      <td>45</td>\n",
       "    </tr>\n",
       "    <tr>\n",
       "      <th>1</th>\n",
       "      <td>Hey all o/\\n\\nMy wife is amazing at making cof...</td>\n",
       "      <td>Coffee</td>\n",
       "      <td>1332</td>\n",
       "      <td>243</td>\n",
       "    </tr>\n",
       "    <tr>\n",
       "      <th>2</th>\n",
       "      <td>So I've recently just started making my own co...</td>\n",
       "      <td>Coffee</td>\n",
       "      <td>228</td>\n",
       "      <td>40</td>\n",
       "    </tr>\n",
       "    <tr>\n",
       "      <th>3</th>\n",
       "      <td>Hello all!\\n\\nI have been doing some research,...</td>\n",
       "      <td>Coffee</td>\n",
       "      <td>655</td>\n",
       "      <td>119</td>\n",
       "    </tr>\n",
       "    <tr>\n",
       "      <th>4</th>\n",
       "      <td>I’ve gotten pretty comfortable switching betwe...</td>\n",
       "      <td>Coffee</td>\n",
       "      <td>598</td>\n",
       "      <td>108</td>\n",
       "    </tr>\n",
       "    <tr>\n",
       "      <th>...</th>\n",
       "      <td>...</td>\n",
       "      <td>...</td>\n",
       "      <td>...</td>\n",
       "      <td>...</td>\n",
       "    </tr>\n",
       "    <tr>\n",
       "      <th>11874</th>\n",
       "      <td>After reading a lot of posts here I bought som...</td>\n",
       "      <td>Tea</td>\n",
       "      <td>281</td>\n",
       "      <td>52</td>\n",
       "    </tr>\n",
       "    <tr>\n",
       "      <th>11875</th>\n",
       "      <td>Anybody have any water boilers that can monito...</td>\n",
       "      <td>Tea</td>\n",
       "      <td>161</td>\n",
       "      <td>29</td>\n",
       "    </tr>\n",
       "    <tr>\n",
       "      <th>11876</th>\n",
       "      <td>Hi all. I'm a huge coffee, green tea and black...</td>\n",
       "      <td>Tea</td>\n",
       "      <td>493</td>\n",
       "      <td>89</td>\n",
       "    </tr>\n",
       "    <tr>\n",
       "      <th>11877</th>\n",
       "      <td>My fiance keeps making fun of me and calling m...</td>\n",
       "      <td>Tea</td>\n",
       "      <td>203</td>\n",
       "      <td>40</td>\n",
       "    </tr>\n",
       "    <tr>\n",
       "      <th>11878</th>\n",
       "      <td>I enjoy this combination a lot, but I'm wonder...</td>\n",
       "      <td>Tea</td>\n",
       "      <td>249</td>\n",
       "      <td>43</td>\n",
       "    </tr>\n",
       "  </tbody>\n",
       "</table>\n",
       "<p>19592 rows × 4 columns</p>\n",
       "</div>"
      ],
      "text/plain": [
       "                                                    post subreddit  post_len  \\\n",
       "0      Voici un livre incroyable, qui vous fera gagne...    Coffee       648   \n",
       "1      Hey all o/\\n\\nMy wife is amazing at making cof...    Coffee      1332   \n",
       "2      So I've recently just started making my own co...    Coffee       228   \n",
       "3      Hello all!\\n\\nI have been doing some research,...    Coffee       655   \n",
       "4      I’ve gotten pretty comfortable switching betwe...    Coffee       598   \n",
       "...                                                  ...       ...       ...   \n",
       "11874  After reading a lot of posts here I bought som...       Tea       281   \n",
       "11875  Anybody have any water boilers that can monito...       Tea       161   \n",
       "11876  Hi all. I'm a huge coffee, green tea and black...       Tea       493   \n",
       "11877  My fiance keeps making fun of me and calling m...       Tea       203   \n",
       "11878  I enjoy this combination a lot, but I'm wonder...       Tea       249   \n",
       "\n",
       "       word_count  \n",
       "0              45  \n",
       "1             243  \n",
       "2              40  \n",
       "3             119  \n",
       "4             108  \n",
       "...           ...  \n",
       "11874          52  \n",
       "11875          29  \n",
       "11876          89  \n",
       "11877          40  \n",
       "11878          43  \n",
       "\n",
       "[19592 rows x 4 columns]"
      ]
     },
     "execution_count": 37,
     "metadata": {},
     "output_type": "execute_result"
    }
   ],
   "source": [
    "coffee_tea.drop(columns=['date','Unnamed: 0','id','score'],inplace=True)\n",
    "coffee_tea\n",
    "#drop columns for just posts and subreddit."
   ]
  },
  {
   "cell_type": "code",
   "execution_count": 38,
   "id": "554af3ed-cd82-498f-b9bc-6f443a6da878",
   "metadata": {},
   "outputs": [],
   "source": [
    "coffee_tea.to_csv('../data/coffee_tea.csv',index=False)"
   ]
  },
  {
   "cell_type": "code",
   "execution_count": 39,
   "id": "f412c6a1-2347-4f72-8ba0-db4f08263116",
   "metadata": {},
   "outputs": [
    {
     "data": {
      "text/plain": [
       "Tea       0.5\n",
       "Coffee    0.5\n",
       "Name: subreddit, dtype: float64"
      ]
     },
     "execution_count": 39,
     "metadata": {},
     "output_type": "execute_result"
    }
   ],
   "source": [
    "coffee_tea['subreddit'].value_counts(normalize=True)"
   ]
  },
  {
   "cell_type": "code",
   "execution_count": 40,
   "id": "5d7731a9-377d-4cee-88ea-a407d662d963",
   "metadata": {},
   "outputs": [
    {
     "data": {
      "text/html": [
       "<div>\n",
       "<style scoped>\n",
       "    .dataframe tbody tr th:only-of-type {\n",
       "        vertical-align: middle;\n",
       "    }\n",
       "\n",
       "    .dataframe tbody tr th {\n",
       "        vertical-align: top;\n",
       "    }\n",
       "\n",
       "    .dataframe thead th {\n",
       "        text-align: right;\n",
       "    }\n",
       "</style>\n",
       "<table border=\"1\" class=\"dataframe\">\n",
       "  <thead>\n",
       "    <tr style=\"text-align: right;\">\n",
       "      <th></th>\n",
       "      <th>post</th>\n",
       "      <th>subreddit</th>\n",
       "      <th>post_len</th>\n",
       "      <th>word_count</th>\n",
       "    </tr>\n",
       "  </thead>\n",
       "  <tbody>\n",
       "    <tr>\n",
       "      <th>0</th>\n",
       "      <td>Voici un livre incroyable, qui vous fera gagne...</td>\n",
       "      <td>Coffee</td>\n",
       "      <td>648</td>\n",
       "      <td>45</td>\n",
       "    </tr>\n",
       "    <tr>\n",
       "      <th>1</th>\n",
       "      <td>Hey all o/\\n\\nMy wife is amazing at making cof...</td>\n",
       "      <td>Coffee</td>\n",
       "      <td>1332</td>\n",
       "      <td>243</td>\n",
       "    </tr>\n",
       "    <tr>\n",
       "      <th>2</th>\n",
       "      <td>So I've recently just started making my own co...</td>\n",
       "      <td>Coffee</td>\n",
       "      <td>228</td>\n",
       "      <td>40</td>\n",
       "    </tr>\n",
       "    <tr>\n",
       "      <th>3</th>\n",
       "      <td>Hello all!\\n\\nI have been doing some research,...</td>\n",
       "      <td>Coffee</td>\n",
       "      <td>655</td>\n",
       "      <td>119</td>\n",
       "    </tr>\n",
       "    <tr>\n",
       "      <th>4</th>\n",
       "      <td>I’ve gotten pretty comfortable switching betwe...</td>\n",
       "      <td>Coffee</td>\n",
       "      <td>598</td>\n",
       "      <td>108</td>\n",
       "    </tr>\n",
       "    <tr>\n",
       "      <th>...</th>\n",
       "      <td>...</td>\n",
       "      <td>...</td>\n",
       "      <td>...</td>\n",
       "      <td>...</td>\n",
       "    </tr>\n",
       "    <tr>\n",
       "      <th>11874</th>\n",
       "      <td>After reading a lot of posts here I bought som...</td>\n",
       "      <td>Tea</td>\n",
       "      <td>281</td>\n",
       "      <td>52</td>\n",
       "    </tr>\n",
       "    <tr>\n",
       "      <th>11875</th>\n",
       "      <td>Anybody have any water boilers that can monito...</td>\n",
       "      <td>Tea</td>\n",
       "      <td>161</td>\n",
       "      <td>29</td>\n",
       "    </tr>\n",
       "    <tr>\n",
       "      <th>11876</th>\n",
       "      <td>Hi all. I'm a huge coffee, green tea and black...</td>\n",
       "      <td>Tea</td>\n",
       "      <td>493</td>\n",
       "      <td>89</td>\n",
       "    </tr>\n",
       "    <tr>\n",
       "      <th>11877</th>\n",
       "      <td>My fiance keeps making fun of me and calling m...</td>\n",
       "      <td>Tea</td>\n",
       "      <td>203</td>\n",
       "      <td>40</td>\n",
       "    </tr>\n",
       "    <tr>\n",
       "      <th>11878</th>\n",
       "      <td>I enjoy this combination a lot, but I'm wonder...</td>\n",
       "      <td>Tea</td>\n",
       "      <td>249</td>\n",
       "      <td>43</td>\n",
       "    </tr>\n",
       "  </tbody>\n",
       "</table>\n",
       "<p>19592 rows × 4 columns</p>\n",
       "</div>"
      ],
      "text/plain": [
       "                                                    post subreddit  post_len  \\\n",
       "0      Voici un livre incroyable, qui vous fera gagne...    Coffee       648   \n",
       "1      Hey all o/\\n\\nMy wife is amazing at making cof...    Coffee      1332   \n",
       "2      So I've recently just started making my own co...    Coffee       228   \n",
       "3      Hello all!\\n\\nI have been doing some research,...    Coffee       655   \n",
       "4      I’ve gotten pretty comfortable switching betwe...    Coffee       598   \n",
       "...                                                  ...       ...       ...   \n",
       "11874  After reading a lot of posts here I bought som...       Tea       281   \n",
       "11875  Anybody have any water boilers that can monito...       Tea       161   \n",
       "11876  Hi all. I'm a huge coffee, green tea and black...       Tea       493   \n",
       "11877  My fiance keeps making fun of me and calling m...       Tea       203   \n",
       "11878  I enjoy this combination a lot, but I'm wonder...       Tea       249   \n",
       "\n",
       "       word_count  \n",
       "0              45  \n",
       "1             243  \n",
       "2              40  \n",
       "3             119  \n",
       "4             108  \n",
       "...           ...  \n",
       "11874          52  \n",
       "11875          29  \n",
       "11876          89  \n",
       "11877          40  \n",
       "11878          43  \n",
       "\n",
       "[19592 rows x 4 columns]"
      ]
     },
     "execution_count": 40,
     "metadata": {},
     "output_type": "execute_result"
    }
   ],
   "source": [
    "coffee_tea"
   ]
  },
  {
   "cell_type": "markdown",
   "id": "4cc14b5a-570c-4df4-bacf-5986b2d5c49a",
   "metadata": {},
   "source": [
    "### EDA on Posts"
   ]
  },
  {
   "cell_type": "code",
   "execution_count": 41,
   "id": "81befc26-b262-47b2-8162-bc49eada865f",
   "metadata": {},
   "outputs": [
    {
     "data": {
      "text/html": [
       "<div>\n",
       "<style scoped>\n",
       "    .dataframe tbody tr th:only-of-type {\n",
       "        vertical-align: middle;\n",
       "    }\n",
       "\n",
       "    .dataframe tbody tr th {\n",
       "        vertical-align: top;\n",
       "    }\n",
       "\n",
       "    .dataframe thead th {\n",
       "        text-align: right;\n",
       "    }\n",
       "</style>\n",
       "<table border=\"1\" class=\"dataframe\">\n",
       "  <thead>\n",
       "    <tr style=\"text-align: right;\">\n",
       "      <th></th>\n",
       "      <th>post_len</th>\n",
       "      <th>word_count</th>\n",
       "    </tr>\n",
       "  </thead>\n",
       "  <tbody>\n",
       "    <tr>\n",
       "      <th>count</th>\n",
       "      <td>19592.000000</td>\n",
       "      <td>19592.000000</td>\n",
       "    </tr>\n",
       "    <tr>\n",
       "      <th>mean</th>\n",
       "      <td>527.028787</td>\n",
       "      <td>94.046039</td>\n",
       "    </tr>\n",
       "    <tr>\n",
       "      <th>std</th>\n",
       "      <td>596.939168</td>\n",
       "      <td>102.635711</td>\n",
       "    </tr>\n",
       "    <tr>\n",
       "      <th>min</th>\n",
       "      <td>1.000000</td>\n",
       "      <td>1.000000</td>\n",
       "    </tr>\n",
       "    <tr>\n",
       "      <th>25%</th>\n",
       "      <td>227.000000</td>\n",
       "      <td>41.000000</td>\n",
       "    </tr>\n",
       "    <tr>\n",
       "      <th>50%</th>\n",
       "      <td>396.000000</td>\n",
       "      <td>72.000000</td>\n",
       "    </tr>\n",
       "    <tr>\n",
       "      <th>75%</th>\n",
       "      <td>629.000000</td>\n",
       "      <td>114.000000</td>\n",
       "    </tr>\n",
       "    <tr>\n",
       "      <th>max</th>\n",
       "      <td>33220.000000</td>\n",
       "      <td>5492.000000</td>\n",
       "    </tr>\n",
       "  </tbody>\n",
       "</table>\n",
       "</div>"
      ],
      "text/plain": [
       "           post_len    word_count\n",
       "count  19592.000000  19592.000000\n",
       "mean     527.028787     94.046039\n",
       "std      596.939168    102.635711\n",
       "min        1.000000      1.000000\n",
       "25%      227.000000     41.000000\n",
       "50%      396.000000     72.000000\n",
       "75%      629.000000    114.000000\n",
       "max    33220.000000   5492.000000"
      ]
     },
     "execution_count": 41,
     "metadata": {},
     "output_type": "execute_result"
    }
   ],
   "source": [
    "coffee_tea.describe()"
   ]
  },
  {
   "cell_type": "code",
   "execution_count": 42,
   "id": "c337d9e3-c4d5-4189-846d-70c0399b4ef7",
   "metadata": {},
   "outputs": [
    {
     "data": {
      "image/png": "[encoded data removed]",
      "text/plain": [
       "<Figure size 720x504 with 1 Axes>"
      ]
     },
     "metadata": {
      "needs_background": "light"
     },
     "output_type": "display_data"
    }
   ],
   "source": [
    "plt.figure(figsize=(10,7))\n",
    "plt.title('Distribution of length of posts')\n",
    "plt.xlabel('Length of posts')\n",
    "plt.ylabel('Frequency')\n",
    "sns.histplot(data=coffee_tea, x=coffee_tea['post_len'],kde=True, bins=75,color='dodgerblue');\n",
    "plt.savefig('../images/dist_of_post_length(total).png')"
   ]
  },
  {
   "cell_type": "markdown",
   "id": "2fc1c135-8263-4d54-b963-edc97d463cc2",
   "metadata": {},
   "source": [
    "The combined subreddit length of posts follows the same skewedness as each subreddit individually."
   ]
  },
  {
   "cell_type": "code",
   "execution_count": 43,
   "id": "bf649fa8-6830-479f-a43f-59226a5f229b",
   "metadata": {},
   "outputs": [
    {
     "data": {
      "image/png": "[encoded data removed]",
      "text/plain": [
       "<Figure size 720x504 with 1 Axes>"
      ]
     },
     "metadata": {
      "needs_background": "light"
     },
     "output_type": "display_data"
    }
   ],
   "source": [
    "plt.figure(figsize=(10,7))\n",
    "plt.title('Distribution of Word Counts')\n",
    "plt.xlabel('Word Count')\n",
    "plt.ylabel('Frequency')\n",
    "sns.histplot(data=coffee_tea, x=coffee_tea['word_count'],kde=True, bins=75,color='goldenrod');\n",
    "plt.savefig('../images/dist_of_word_count(total).png')"
   ]
  },
  {
   "cell_type": "markdown",
   "id": "6ae6f8c6-9078-4a1a-849d-5a0ee27d5adc",
   "metadata": {},
   "source": [
    "The same goes for the total word count "
   ]
  },
  {
   "cell_type": "markdown",
   "id": "dddd3767-01d4-462b-bad5-c9ed4770d172",
   "metadata": {},
   "source": [
    "### EDA with CountVectorize"
   ]
  },
  {
   "cell_type": "code",
   "execution_count": 44,
   "id": "2837a073-a5d5-4f7a-9eda-a010352c64fb",
   "metadata": {},
   "outputs": [],
   "source": [
    "X=coffee_tea['post']\n",
    "y=coffee_tea['subreddit']\n",
    "\n",
    "X_train, X_test, y_train, y_test=train_test_split(X,y, \n",
    "                                                 test_size=.30,\n",
    "                                                 random_state=42,\n",
    "                                                 stratify=y)"
   ]
  },
  {
   "cell_type": "code",
   "execution_count": 45,
   "id": "fd7beb7a-fc7b-476b-ab71-1251dc9c3af3",
   "metadata": {},
   "outputs": [],
   "source": [
    "cvec=CountVectorizer()\n",
    "\n",
    "cvec.fit(X_train)\n",
    "\n",
    "X_train=cvec.transform(X_train)"
   ]
  },
  {
   "cell_type": "code",
   "execution_count": 46,
   "id": "5988f6cb-380d-4f71-9f87-e631d6051ba8",
   "metadata": {},
   "outputs": [
    {
     "data": {
      "text/plain": [
       "<13714x29141 sparse matrix of type '<class 'numpy.int64'>'\n",
       "\twith 848368 stored elements in Compressed Sparse Row format>"
      ]
     },
     "execution_count": 46,
     "metadata": {},
     "output_type": "execute_result"
    }
   ],
   "source": [
    "X_train"
   ]
  },
  {
   "cell_type": "code",
   "execution_count": 47,
   "id": "b4b5a1ba-b24b-4419-8526-34bad2dbf79e",
   "metadata": {},
   "outputs": [
    {
     "data": {
      "text/plain": [
       "['250mg',\n",
       " '250ml',\n",
       " '250ppm',\n",
       " '251',\n",
       " '25257c00365',\n",
       " '25257c01',\n",
       " '25257cp77',\n",
       " '25257csh',\n",
       " '25257ct02',\n",
       " '25257cv04_kasa_ppc']"
      ]
     },
     "execution_count": 47,
     "metadata": {},
     "output_type": "execute_result"
    }
   ],
   "source": [
    "cvec.get_feature_names()[1000:1010]"
   ]
  },
  {
   "cell_type": "code",
   "execution_count": 48,
   "id": "d40afc51-eb25-40c8-8462-11e8c026cf86",
   "metadata": {},
   "outputs": [
    {
     "data": {
      "text/plain": [
       "(13714, 29141)"
      ]
     },
     "execution_count": 48,
     "metadata": {},
     "output_type": "execute_result"
    }
   ],
   "source": [
    "X_train.shape"
   ]
  },
  {
   "cell_type": "code",
   "execution_count": 49,
   "id": "b92dbcbb-a591-4e83-97cc-3f331e578cb9",
   "metadata": {},
   "outputs": [],
   "source": [
    "X_test=cvec.transform(X_test)"
   ]
  },
  {
   "cell_type": "code",
   "execution_count": 50,
   "id": "9451c26b-66c8-450b-8135-288a29ee6eb9",
   "metadata": {},
   "outputs": [
    {
     "data": {
      "text/html": [
       "<div>\n",
       "<style scoped>\n",
       "    .dataframe tbody tr th:only-of-type {\n",
       "        vertical-align: middle;\n",
       "    }\n",
       "\n",
       "    .dataframe tbody tr th {\n",
       "        vertical-align: top;\n",
       "    }\n",
       "\n",
       "    .dataframe thead th {\n",
       "        text-align: right;\n",
       "    }\n",
       "</style>\n",
       "<table border=\"1\" class=\"dataframe\">\n",
       "  <thead>\n",
       "    <tr style=\"text-align: right;\">\n",
       "      <th></th>\n",
       "      <th>00</th>\n",
       "      <th>000</th>\n",
       "      <th>0004850020184</th>\n",
       "      <th>0005012_illy</th>\n",
       "      <th>000ft</th>\n",
       "      <th>000ish</th>\n",
       "      <th>000mg</th>\n",
       "      <th>000pcs</th>\n",
       "      <th>000s</th>\n",
       "      <th>0013631_saeco</th>\n",
       "      <th>...</th>\n",
       "      <th>超福金</th>\n",
       "      <th>通天香</th>\n",
       "      <th>나왔다는</th>\n",
       "      <th>문화가</th>\n",
       "      <th>아아</th>\n",
       "      <th>영국의</th>\n",
       "      <th>이것은마치</th>\n",
       "      <th>이야기</th>\n",
       "      <th>중국의</th>\n",
       "      <th>차문화에서</th>\n",
       "    </tr>\n",
       "  </thead>\n",
       "  <tbody>\n",
       "    <tr>\n",
       "      <th>0</th>\n",
       "      <td>0</td>\n",
       "      <td>0</td>\n",
       "      <td>0</td>\n",
       "      <td>0</td>\n",
       "      <td>0</td>\n",
       "      <td>0</td>\n",
       "      <td>0</td>\n",
       "      <td>0</td>\n",
       "      <td>0</td>\n",
       "      <td>0</td>\n",
       "      <td>...</td>\n",
       "      <td>0</td>\n",
       "      <td>0</td>\n",
       "      <td>0</td>\n",
       "      <td>0</td>\n",
       "      <td>0</td>\n",
       "      <td>0</td>\n",
       "      <td>0</td>\n",
       "      <td>0</td>\n",
       "      <td>0</td>\n",
       "      <td>0</td>\n",
       "    </tr>\n",
       "    <tr>\n",
       "      <th>1</th>\n",
       "      <td>0</td>\n",
       "      <td>0</td>\n",
       "      <td>0</td>\n",
       "      <td>0</td>\n",
       "      <td>0</td>\n",
       "      <td>0</td>\n",
       "      <td>0</td>\n",
       "      <td>0</td>\n",
       "      <td>0</td>\n",
       "      <td>0</td>\n",
       "      <td>...</td>\n",
       "      <td>0</td>\n",
       "      <td>0</td>\n",
       "      <td>0</td>\n",
       "      <td>0</td>\n",
       "      <td>0</td>\n",
       "      <td>0</td>\n",
       "      <td>0</td>\n",
       "      <td>0</td>\n",
       "      <td>0</td>\n",
       "      <td>0</td>\n",
       "    </tr>\n",
       "    <tr>\n",
       "      <th>2</th>\n",
       "      <td>0</td>\n",
       "      <td>0</td>\n",
       "      <td>0</td>\n",
       "      <td>0</td>\n",
       "      <td>0</td>\n",
       "      <td>0</td>\n",
       "      <td>0</td>\n",
       "      <td>0</td>\n",
       "      <td>0</td>\n",
       "      <td>0</td>\n",
       "      <td>...</td>\n",
       "      <td>0</td>\n",
       "      <td>0</td>\n",
       "      <td>0</td>\n",
       "      <td>0</td>\n",
       "      <td>0</td>\n",
       "      <td>0</td>\n",
       "      <td>0</td>\n",
       "      <td>0</td>\n",
       "      <td>0</td>\n",
       "      <td>0</td>\n",
       "    </tr>\n",
       "    <tr>\n",
       "      <th>3</th>\n",
       "      <td>0</td>\n",
       "      <td>0</td>\n",
       "      <td>0</td>\n",
       "      <td>0</td>\n",
       "      <td>0</td>\n",
       "      <td>0</td>\n",
       "      <td>0</td>\n",
       "      <td>0</td>\n",
       "      <td>0</td>\n",
       "      <td>0</td>\n",
       "      <td>...</td>\n",
       "      <td>0</td>\n",
       "      <td>0</td>\n",
       "      <td>0</td>\n",
       "      <td>0</td>\n",
       "      <td>0</td>\n",
       "      <td>0</td>\n",
       "      <td>0</td>\n",
       "      <td>0</td>\n",
       "      <td>0</td>\n",
       "      <td>0</td>\n",
       "    </tr>\n",
       "    <tr>\n",
       "      <th>4</th>\n",
       "      <td>0</td>\n",
       "      <td>0</td>\n",
       "      <td>0</td>\n",
       "      <td>0</td>\n",
       "      <td>0</td>\n",
       "      <td>0</td>\n",
       "      <td>0</td>\n",
       "      <td>0</td>\n",
       "      <td>0</td>\n",
       "      <td>0</td>\n",
       "      <td>...</td>\n",
       "      <td>0</td>\n",
       "      <td>0</td>\n",
       "      <td>0</td>\n",
       "      <td>0</td>\n",
       "      <td>0</td>\n",
       "      <td>0</td>\n",
       "      <td>0</td>\n",
       "      <td>0</td>\n",
       "      <td>0</td>\n",
       "      <td>0</td>\n",
       "    </tr>\n",
       "    <tr>\n",
       "      <th>...</th>\n",
       "      <td>...</td>\n",
       "      <td>...</td>\n",
       "      <td>...</td>\n",
       "      <td>...</td>\n",
       "      <td>...</td>\n",
       "      <td>...</td>\n",
       "      <td>...</td>\n",
       "      <td>...</td>\n",
       "      <td>...</td>\n",
       "      <td>...</td>\n",
       "      <td>...</td>\n",
       "      <td>...</td>\n",
       "      <td>...</td>\n",
       "      <td>...</td>\n",
       "      <td>...</td>\n",
       "      <td>...</td>\n",
       "      <td>...</td>\n",
       "      <td>...</td>\n",
       "      <td>...</td>\n",
       "      <td>...</td>\n",
       "      <td>...</td>\n",
       "    </tr>\n",
       "    <tr>\n",
       "      <th>13709</th>\n",
       "      <td>0</td>\n",
       "      <td>0</td>\n",
       "      <td>0</td>\n",
       "      <td>0</td>\n",
       "      <td>0</td>\n",
       "      <td>0</td>\n",
       "      <td>0</td>\n",
       "      <td>0</td>\n",
       "      <td>0</td>\n",
       "      <td>0</td>\n",
       "      <td>...</td>\n",
       "      <td>0</td>\n",
       "      <td>0</td>\n",
       "      <td>0</td>\n",
       "      <td>0</td>\n",
       "      <td>0</td>\n",
       "      <td>0</td>\n",
       "      <td>0</td>\n",
       "      <td>0</td>\n",
       "      <td>0</td>\n",
       "      <td>0</td>\n",
       "    </tr>\n",
       "    <tr>\n",
       "      <th>13710</th>\n",
       "      <td>0</td>\n",
       "      <td>0</td>\n",
       "      <td>0</td>\n",
       "      <td>0</td>\n",
       "      <td>0</td>\n",
       "      <td>0</td>\n",
       "      <td>0</td>\n",
       "      <td>0</td>\n",
       "      <td>0</td>\n",
       "      <td>0</td>\n",
       "      <td>...</td>\n",
       "      <td>0</td>\n",
       "      <td>0</td>\n",
       "      <td>0</td>\n",
       "      <td>0</td>\n",
       "      <td>0</td>\n",
       "      <td>0</td>\n",
       "      <td>0</td>\n",
       "      <td>0</td>\n",
       "      <td>0</td>\n",
       "      <td>0</td>\n",
       "    </tr>\n",
       "    <tr>\n",
       "      <th>13711</th>\n",
       "      <td>0</td>\n",
       "      <td>0</td>\n",
       "      <td>0</td>\n",
       "      <td>0</td>\n",
       "      <td>0</td>\n",
       "      <td>0</td>\n",
       "      <td>0</td>\n",
       "      <td>0</td>\n",
       "      <td>0</td>\n",
       "      <td>0</td>\n",
       "      <td>...</td>\n",
       "      <td>0</td>\n",
       "      <td>0</td>\n",
       "      <td>0</td>\n",
       "      <td>0</td>\n",
       "      <td>0</td>\n",
       "      <td>0</td>\n",
       "      <td>0</td>\n",
       "      <td>0</td>\n",
       "      <td>0</td>\n",
       "      <td>0</td>\n",
       "    </tr>\n",
       "    <tr>\n",
       "      <th>13712</th>\n",
       "      <td>0</td>\n",
       "      <td>0</td>\n",
       "      <td>0</td>\n",
       "      <td>0</td>\n",
       "      <td>0</td>\n",
       "      <td>0</td>\n",
       "      <td>0</td>\n",
       "      <td>0</td>\n",
       "      <td>0</td>\n",
       "      <td>0</td>\n",
       "      <td>...</td>\n",
       "      <td>0</td>\n",
       "      <td>0</td>\n",
       "      <td>0</td>\n",
       "      <td>0</td>\n",
       "      <td>0</td>\n",
       "      <td>0</td>\n",
       "      <td>0</td>\n",
       "      <td>0</td>\n",
       "      <td>0</td>\n",
       "      <td>0</td>\n",
       "    </tr>\n",
       "    <tr>\n",
       "      <th>13713</th>\n",
       "      <td>0</td>\n",
       "      <td>0</td>\n",
       "      <td>0</td>\n",
       "      <td>0</td>\n",
       "      <td>0</td>\n",
       "      <td>0</td>\n",
       "      <td>0</td>\n",
       "      <td>0</td>\n",
       "      <td>0</td>\n",
       "      <td>0</td>\n",
       "      <td>...</td>\n",
       "      <td>0</td>\n",
       "      <td>0</td>\n",
       "      <td>0</td>\n",
       "      <td>0</td>\n",
       "      <td>0</td>\n",
       "      <td>0</td>\n",
       "      <td>0</td>\n",
       "      <td>0</td>\n",
       "      <td>0</td>\n",
       "      <td>0</td>\n",
       "    </tr>\n",
       "  </tbody>\n",
       "</table>\n",
       "<p>13714 rows × 29141 columns</p>\n",
       "</div>"
      ],
      "text/plain": [
       "       00  000  0004850020184  0005012_illy  000ft  000ish  000mg  000pcs  \\\n",
       "0       0    0              0             0      0       0      0       0   \n",
       "1       0    0              0             0      0       0      0       0   \n",
       "2       0    0              0             0      0       0      0       0   \n",
       "3       0    0              0             0      0       0      0       0   \n",
       "4       0    0              0             0      0       0      0       0   \n",
       "...    ..  ...            ...           ...    ...     ...    ...     ...   \n",
       "13709   0    0              0             0      0       0      0       0   \n",
       "13710   0    0              0             0      0       0      0       0   \n",
       "13711   0    0              0             0      0       0      0       0   \n",
       "13712   0    0              0             0      0       0      0       0   \n",
       "13713   0    0              0             0      0       0      0       0   \n",
       "\n",
       "       000s  0013631_saeco  ...  超福金  通天香  나왔다는  문화가  아아  영국의  이것은마치  이야기  \\\n",
       "0         0              0  ...    0    0     0    0   0    0      0    0   \n",
       "1         0              0  ...    0    0     0    0   0    0      0    0   \n",
       "2         0              0  ...    0    0     0    0   0    0      0    0   \n",
       "3         0              0  ...    0    0     0    0   0    0      0    0   \n",
       "4         0              0  ...    0    0     0    0   0    0      0    0   \n",
       "...     ...            ...  ...  ...  ...   ...  ...  ..  ...    ...  ...   \n",
       "13709     0              0  ...    0    0     0    0   0    0      0    0   \n",
       "13710     0              0  ...    0    0     0    0   0    0      0    0   \n",
       "13711     0              0  ...    0    0     0    0   0    0      0    0   \n",
       "13712     0              0  ...    0    0     0    0   0    0      0    0   \n",
       "13713     0              0  ...    0    0     0    0   0    0      0    0   \n",
       "\n",
       "       중국의  차문화에서  \n",
       "0        0      0  \n",
       "1        0      0  \n",
       "2        0      0  \n",
       "3        0      0  \n",
       "4        0      0  \n",
       "...    ...    ...  \n",
       "13709    0      0  \n",
       "13710    0      0  \n",
       "13711    0      0  \n",
       "13712    0      0  \n",
       "13713    0      0  \n",
       "\n",
       "[13714 rows x 29141 columns]"
      ]
     },
     "execution_count": 50,
     "metadata": {},
     "output_type": "execute_result"
    }
   ],
   "source": [
    "X_train_df=pd.DataFrame(X_train.todense(), columns=cvec.get_feature_names())\n",
    "X_train_df"
   ]
  },
  {
   "cell_type": "code",
   "execution_count": 51,
   "id": "39c8d729-8b00-46c9-8050-d63287b68c57",
   "metadata": {},
   "outputs": [
    {
     "data": {
      "image/png": "[encoded data removed]",
      "text/plain": [
       "<Figure size 720x576 with 1 Axes>"
      ]
     },
     "metadata": {
      "needs_background": "light"
     },
     "output_type": "display_data"
    }
   ],
   "source": [
    "plt.figure(figsize=(10,8))\n",
    "plt.title('15 Most common words')\n",
    "plt.xlabel('Frequency')\n",
    "plt.ylabel('Word')\n",
    "X_train_df.sum().sort_values(ascending=False).head(15).plot(kind='barh', color='slateblue');"
   ]
  },
  {
   "cell_type": "markdown",
   "id": "8f08b22b-8d54-4f06-b04d-887ca82539ca",
   "metadata": {},
   "source": [
    "These are the 15 most common words across both subreddits.  This includes stop words as well as coffee and tea(the subject matter themselves). "
   ]
  },
  {
   "cell_type": "code",
   "execution_count": 52,
   "id": "c3dda044-47b2-46ad-9cd6-8dc84c7881d6",
   "metadata": {},
   "outputs": [],
   "source": [
    "X=coffee_tea['post']\n",
    "y=coffee_tea['subreddit']\n",
    "\n",
    "X_train, X_test, y_train, y_test=train_test_split(X,y, \n",
    "                                                 test_size=.30,\n",
    "                                                 random_state=42,\n",
    "                                                 stratify=y)"
   ]
  },
  {
   "cell_type": "code",
   "execution_count": 53,
   "id": "a8e55daa-8a0d-4544-9903-d045a669c175",
   "metadata": {},
   "outputs": [
    {
     "data": {
      "text/html": [
       "<div>\n",
       "<style scoped>\n",
       "    .dataframe tbody tr th:only-of-type {\n",
       "        vertical-align: middle;\n",
       "    }\n",
       "\n",
       "    .dataframe tbody tr th {\n",
       "        vertical-align: top;\n",
       "    }\n",
       "\n",
       "    .dataframe thead th {\n",
       "        text-align: right;\n",
       "    }\n",
       "</style>\n",
       "<table border=\"1\" class=\"dataframe\">\n",
       "  <thead>\n",
       "    <tr style=\"text-align: right;\">\n",
       "      <th></th>\n",
       "      <th>00</th>\n",
       "      <th>000</th>\n",
       "      <th>0004850020184</th>\n",
       "      <th>0005012_illy</th>\n",
       "      <th>000ft</th>\n",
       "      <th>000ish</th>\n",
       "      <th>000mg</th>\n",
       "      <th>000pcs</th>\n",
       "      <th>000s</th>\n",
       "      <th>0013631_saeco</th>\n",
       "      <th>...</th>\n",
       "      <th>超福金</th>\n",
       "      <th>通天香</th>\n",
       "      <th>나왔다는</th>\n",
       "      <th>문화가</th>\n",
       "      <th>아아</th>\n",
       "      <th>영국의</th>\n",
       "      <th>이것은마치</th>\n",
       "      <th>이야기</th>\n",
       "      <th>중국의</th>\n",
       "      <th>차문화에서</th>\n",
       "    </tr>\n",
       "  </thead>\n",
       "  <tbody>\n",
       "    <tr>\n",
       "      <th>0</th>\n",
       "      <td>0</td>\n",
       "      <td>0</td>\n",
       "      <td>0</td>\n",
       "      <td>0</td>\n",
       "      <td>0</td>\n",
       "      <td>0</td>\n",
       "      <td>0</td>\n",
       "      <td>0</td>\n",
       "      <td>0</td>\n",
       "      <td>0</td>\n",
       "      <td>...</td>\n",
       "      <td>0</td>\n",
       "      <td>0</td>\n",
       "      <td>0</td>\n",
       "      <td>0</td>\n",
       "      <td>0</td>\n",
       "      <td>0</td>\n",
       "      <td>0</td>\n",
       "      <td>0</td>\n",
       "      <td>0</td>\n",
       "      <td>0</td>\n",
       "    </tr>\n",
       "    <tr>\n",
       "      <th>1</th>\n",
       "      <td>0</td>\n",
       "      <td>0</td>\n",
       "      <td>0</td>\n",
       "      <td>0</td>\n",
       "      <td>0</td>\n",
       "      <td>0</td>\n",
       "      <td>0</td>\n",
       "      <td>0</td>\n",
       "      <td>0</td>\n",
       "      <td>0</td>\n",
       "      <td>...</td>\n",
       "      <td>0</td>\n",
       "      <td>0</td>\n",
       "      <td>0</td>\n",
       "      <td>0</td>\n",
       "      <td>0</td>\n",
       "      <td>0</td>\n",
       "      <td>0</td>\n",
       "      <td>0</td>\n",
       "      <td>0</td>\n",
       "      <td>0</td>\n",
       "    </tr>\n",
       "    <tr>\n",
       "      <th>2</th>\n",
       "      <td>0</td>\n",
       "      <td>0</td>\n",
       "      <td>0</td>\n",
       "      <td>0</td>\n",
       "      <td>0</td>\n",
       "      <td>0</td>\n",
       "      <td>0</td>\n",
       "      <td>0</td>\n",
       "      <td>0</td>\n",
       "      <td>0</td>\n",
       "      <td>...</td>\n",
       "      <td>0</td>\n",
       "      <td>0</td>\n",
       "      <td>0</td>\n",
       "      <td>0</td>\n",
       "      <td>0</td>\n",
       "      <td>0</td>\n",
       "      <td>0</td>\n",
       "      <td>0</td>\n",
       "      <td>0</td>\n",
       "      <td>0</td>\n",
       "    </tr>\n",
       "    <tr>\n",
       "      <th>3</th>\n",
       "      <td>0</td>\n",
       "      <td>0</td>\n",
       "      <td>0</td>\n",
       "      <td>0</td>\n",
       "      <td>0</td>\n",
       "      <td>0</td>\n",
       "      <td>0</td>\n",
       "      <td>0</td>\n",
       "      <td>0</td>\n",
       "      <td>0</td>\n",
       "      <td>...</td>\n",
       "      <td>0</td>\n",
       "      <td>0</td>\n",
       "      <td>0</td>\n",
       "      <td>0</td>\n",
       "      <td>0</td>\n",
       "      <td>0</td>\n",
       "      <td>0</td>\n",
       "      <td>0</td>\n",
       "      <td>0</td>\n",
       "      <td>0</td>\n",
       "    </tr>\n",
       "    <tr>\n",
       "      <th>4</th>\n",
       "      <td>0</td>\n",
       "      <td>0</td>\n",
       "      <td>0</td>\n",
       "      <td>0</td>\n",
       "      <td>0</td>\n",
       "      <td>0</td>\n",
       "      <td>0</td>\n",
       "      <td>0</td>\n",
       "      <td>0</td>\n",
       "      <td>0</td>\n",
       "      <td>...</td>\n",
       "      <td>0</td>\n",
       "      <td>0</td>\n",
       "      <td>0</td>\n",
       "      <td>0</td>\n",
       "      <td>0</td>\n",
       "      <td>0</td>\n",
       "      <td>0</td>\n",
       "      <td>0</td>\n",
       "      <td>0</td>\n",
       "      <td>0</td>\n",
       "    </tr>\n",
       "    <tr>\n",
       "      <th>...</th>\n",
       "      <td>...</td>\n",
       "      <td>...</td>\n",
       "      <td>...</td>\n",
       "      <td>...</td>\n",
       "      <td>...</td>\n",
       "      <td>...</td>\n",
       "      <td>...</td>\n",
       "      <td>...</td>\n",
       "      <td>...</td>\n",
       "      <td>...</td>\n",
       "      <td>...</td>\n",
       "      <td>...</td>\n",
       "      <td>...</td>\n",
       "      <td>...</td>\n",
       "      <td>...</td>\n",
       "      <td>...</td>\n",
       "      <td>...</td>\n",
       "      <td>...</td>\n",
       "      <td>...</td>\n",
       "      <td>...</td>\n",
       "      <td>...</td>\n",
       "    </tr>\n",
       "    <tr>\n",
       "      <th>13709</th>\n",
       "      <td>0</td>\n",
       "      <td>0</td>\n",
       "      <td>0</td>\n",
       "      <td>0</td>\n",
       "      <td>0</td>\n",
       "      <td>0</td>\n",
       "      <td>0</td>\n",
       "      <td>0</td>\n",
       "      <td>0</td>\n",
       "      <td>0</td>\n",
       "      <td>...</td>\n",
       "      <td>0</td>\n",
       "      <td>0</td>\n",
       "      <td>0</td>\n",
       "      <td>0</td>\n",
       "      <td>0</td>\n",
       "      <td>0</td>\n",
       "      <td>0</td>\n",
       "      <td>0</td>\n",
       "      <td>0</td>\n",
       "      <td>0</td>\n",
       "    </tr>\n",
       "    <tr>\n",
       "      <th>13710</th>\n",
       "      <td>0</td>\n",
       "      <td>0</td>\n",
       "      <td>0</td>\n",
       "      <td>0</td>\n",
       "      <td>0</td>\n",
       "      <td>0</td>\n",
       "      <td>0</td>\n",
       "      <td>0</td>\n",
       "      <td>0</td>\n",
       "      <td>0</td>\n",
       "      <td>...</td>\n",
       "      <td>0</td>\n",
       "      <td>0</td>\n",
       "      <td>0</td>\n",
       "      <td>0</td>\n",
       "      <td>0</td>\n",
       "      <td>0</td>\n",
       "      <td>0</td>\n",
       "      <td>0</td>\n",
       "      <td>0</td>\n",
       "      <td>0</td>\n",
       "    </tr>\n",
       "    <tr>\n",
       "      <th>13711</th>\n",
       "      <td>0</td>\n",
       "      <td>0</td>\n",
       "      <td>0</td>\n",
       "      <td>0</td>\n",
       "      <td>0</td>\n",
       "      <td>0</td>\n",
       "      <td>0</td>\n",
       "      <td>0</td>\n",
       "      <td>0</td>\n",
       "      <td>0</td>\n",
       "      <td>...</td>\n",
       "      <td>0</td>\n",
       "      <td>0</td>\n",
       "      <td>0</td>\n",
       "      <td>0</td>\n",
       "      <td>0</td>\n",
       "      <td>0</td>\n",
       "      <td>0</td>\n",
       "      <td>0</td>\n",
       "      <td>0</td>\n",
       "      <td>0</td>\n",
       "    </tr>\n",
       "    <tr>\n",
       "      <th>13712</th>\n",
       "      <td>0</td>\n",
       "      <td>0</td>\n",
       "      <td>0</td>\n",
       "      <td>0</td>\n",
       "      <td>0</td>\n",
       "      <td>0</td>\n",
       "      <td>0</td>\n",
       "      <td>0</td>\n",
       "      <td>0</td>\n",
       "      <td>0</td>\n",
       "      <td>...</td>\n",
       "      <td>0</td>\n",
       "      <td>0</td>\n",
       "      <td>0</td>\n",
       "      <td>0</td>\n",
       "      <td>0</td>\n",
       "      <td>0</td>\n",
       "      <td>0</td>\n",
       "      <td>0</td>\n",
       "      <td>0</td>\n",
       "      <td>0</td>\n",
       "    </tr>\n",
       "    <tr>\n",
       "      <th>13713</th>\n",
       "      <td>0</td>\n",
       "      <td>0</td>\n",
       "      <td>0</td>\n",
       "      <td>0</td>\n",
       "      <td>0</td>\n",
       "      <td>0</td>\n",
       "      <td>0</td>\n",
       "      <td>0</td>\n",
       "      <td>0</td>\n",
       "      <td>0</td>\n",
       "      <td>...</td>\n",
       "      <td>0</td>\n",
       "      <td>0</td>\n",
       "      <td>0</td>\n",
       "      <td>0</td>\n",
       "      <td>0</td>\n",
       "      <td>0</td>\n",
       "      <td>0</td>\n",
       "      <td>0</td>\n",
       "      <td>0</td>\n",
       "      <td>0</td>\n",
       "    </tr>\n",
       "  </tbody>\n",
       "</table>\n",
       "<p>13714 rows × 28838 columns</p>\n",
       "</div>"
      ],
      "text/plain": [
       "       00  000  0004850020184  0005012_illy  000ft  000ish  000mg  000pcs  \\\n",
       "0       0    0              0             0      0       0      0       0   \n",
       "1       0    0              0             0      0       0      0       0   \n",
       "2       0    0              0             0      0       0      0       0   \n",
       "3       0    0              0             0      0       0      0       0   \n",
       "4       0    0              0             0      0       0      0       0   \n",
       "...    ..  ...            ...           ...    ...     ...    ...     ...   \n",
       "13709   0    0              0             0      0       0      0       0   \n",
       "13710   0    0              0             0      0       0      0       0   \n",
       "13711   0    0              0             0      0       0      0       0   \n",
       "13712   0    0              0             0      0       0      0       0   \n",
       "13713   0    0              0             0      0       0      0       0   \n",
       "\n",
       "       000s  0013631_saeco  ...  超福金  通天香  나왔다는  문화가  아아  영국의  이것은마치  이야기  \\\n",
       "0         0              0  ...    0    0     0    0   0    0      0    0   \n",
       "1         0              0  ...    0    0     0    0   0    0      0    0   \n",
       "2         0              0  ...    0    0     0    0   0    0      0    0   \n",
       "3         0              0  ...    0    0     0    0   0    0      0    0   \n",
       "4         0              0  ...    0    0     0    0   0    0      0    0   \n",
       "...     ...            ...  ...  ...  ...   ...  ...  ..  ...    ...  ...   \n",
       "13709     0              0  ...    0    0     0    0   0    0      0    0   \n",
       "13710     0              0  ...    0    0     0    0   0    0      0    0   \n",
       "13711     0              0  ...    0    0     0    0   0    0      0    0   \n",
       "13712     0              0  ...    0    0     0    0   0    0      0    0   \n",
       "13713     0              0  ...    0    0     0    0   0    0      0    0   \n",
       "\n",
       "       중국의  차문화에서  \n",
       "0        0      0  \n",
       "1        0      0  \n",
       "2        0      0  \n",
       "3        0      0  \n",
       "4        0      0  \n",
       "...    ...    ...  \n",
       "13709    0      0  \n",
       "13710    0      0  \n",
       "13711    0      0  \n",
       "13712    0      0  \n",
       "13713    0      0  \n",
       "\n",
       "[13714 rows x 28838 columns]"
      ]
     },
     "execution_count": 53,
     "metadata": {},
     "output_type": "execute_result"
    }
   ],
   "source": [
    "cvec2=CountVectorizer(stop_words='english')\n",
    "\n",
    "\n",
    "cvec2.fit(X_train)\n",
    "\n",
    "X_train=cvec2.transform(X_train)\n",
    "\n",
    "X_test=cvec2.transform(X_test)\n",
    "\n",
    "X_tr_stop_df=pd.DataFrame(X_train.todense(), columns=cvec2.get_feature_names())\n",
    "X_tr_stop_df"
   ]
  },
  {
   "cell_type": "code",
   "execution_count": 54,
   "id": "873a43bf-9104-432a-bfbb-97c2541749c2",
   "metadata": {},
   "outputs": [
    {
     "data": {
      "image/png": "[encoded data removed]",
      "text/plain": [
       "<Figure size 720x576 with 1 Axes>"
      ]
     },
     "metadata": {
      "needs_background": "light"
     },
     "output_type": "display_data"
    }
   ],
   "source": [
    "plt.figure(figsize=(10,8))\n",
    "plt.title('15 Most common words(Stop_Words edition)')\n",
    "plt.xlabel('Frequency')\n",
    "plt.ylabel('Word')\n",
    "X_tr_stop_df.sum().sort_values(ascending=False).head(15).plot(kind='barh',color='darkslateblue');"
   ]
  },
  {
   "cell_type": "markdown",
   "id": "6e9dfe2c-33bb-46b9-9882-85413470aa27",
   "metadata": {},
   "source": [
    "When you count vectorize and strip away the stop words, you get: coffee, tea, like, just, ve, and water rounding out the most frequently used words. "
   ]
  },
  {
   "cell_type": "markdown",
   "id": "bb907055-894a-4fd7-8851-5140301e61cf",
   "metadata": {},
   "source": [
    "## Evaluating the models"
   ]
  },
  {
   "cell_type": "markdown",
   "id": "32ef305a-2ccd-4123-8f2c-c2980054d03e",
   "metadata": {},
   "source": [
    "We will evaluate this classification problem from the lens of accuracy, recall, specificity, Type I and Type II.  Recall allows you to know when you correctly predicted the cases in the true class. The true class in this case is the tea subreddit. Specificity lets you find out how well you can predict the negative class, which is the coffee subreddit. Finally with Type I & Type II errors you can see the percentage at which your model incorrectly predicts these classes respectively. \n",
    "\n",
    "References:<br>\n",
    "https://towardsdatascience.com/the-3-most-important-basic-classification-metrics-3368dd425f74<br>\n",
    "https://towardsdatascience.com/the-3-most-important-composite-classification-metrics-b1f2d886dc7b"
   ]
  },
  {
   "cell_type": "markdown",
   "id": "c5024bc6-272e-4610-af30-d7080d628540",
   "metadata": {},
   "source": [
    "## Classifying Models"
   ]
  },
  {
   "cell_type": "markdown",
   "id": "be3c6682-12c6-4f6b-87da-3ecab7d6cce2",
   "metadata": {},
   "source": [
    "### Baseline"
   ]
  },
  {
   "cell_type": "code",
   "execution_count": 121,
   "id": "1e851298-770b-4959-be4a-08ac5257281e",
   "metadata": {},
   "outputs": [
    {
     "data": {
      "text/plain": [
       "Tea       0.5\n",
       "Coffee    0.5\n",
       "Name: subreddit, dtype: float64"
      ]
     },
     "execution_count": 121,
     "metadata": {},
     "output_type": "execute_result"
    }
   ],
   "source": [
    "coffee_tea['subreddit'].value_counts(normalize=True)"
   ]
  },
  {
   "cell_type": "markdown",
   "id": "58400fbb-60e1-4a85-909c-6bd0f03b0e8e",
   "metadata": {},
   "source": [
    "### Multinomial NB Model"
   ]
  },
  {
   "cell_type": "code",
   "execution_count": 55,
   "id": "abe277c1-1b0c-43c9-a110-724150b03fb0",
   "metadata": {},
   "outputs": [],
   "source": [
    "X=coffee_tea['post']\n",
    "y=coffee_tea['subreddit']\n",
    "\n",
    "X_train, X_test, y_train, y_test=train_test_split(X,y, \n",
    "                                                 test_size=.30,\n",
    "                                                 random_state=42,\n",
    "                                                 stratify=y)"
   ]
  },
  {
   "cell_type": "code",
   "execution_count": 56,
   "id": "cc84839f-84c1-484b-8ee8-cb3cb2faa126",
   "metadata": {},
   "outputs": [],
   "source": [
    "pipe_nb= Pipeline([\n",
    "    ('cvec', CountVectorizer()),\n",
    "    ('nb', MultinomialNB())\n",
    "])"
   ]
  },
  {
   "cell_type": "code",
   "execution_count": 57,
   "id": "278f8d63-3266-4417-8bd6-a653096806eb",
   "metadata": {},
   "outputs": [],
   "source": [
    "pipenb_params= {\n",
    "    'cvec__max_features':[2000,3000,4000],\n",
    "    'cvec__min_df':[2,3],\n",
    "    'cvec__max_df':[0.9],\n",
    "    'cvec__ngram_range':[(1,1),(1,2)]\n",
    "}"
   ]
  },
  {
   "cell_type": "code",
   "execution_count": 58,
   "id": "7c7818f5-a7dc-43db-8b52-a8c6df6e853f",
   "metadata": {},
   "outputs": [],
   "source": [
    "gs_nb=GridSearchCV(pipe_nb,\n",
    "                  param_grid=pipenb_params,\n",
    "                   cv=5,\n",
    "                   n_jobs=4)"
   ]
  },
  {
   "cell_type": "code",
   "execution_count": 59,
   "id": "e3a0c848-c305-4558-ba66-051762249157",
   "metadata": {},
   "outputs": [
    {
     "name": "stderr",
     "output_type": "stream",
     "text": [
      "/opt/anaconda3/envs/dsi-111/lib/python3.8/site-packages/joblib/externals/loky/process_executor.py:688: UserWarning: A worker stopped while some jobs were given to the executor. This can be caused by a too short worker timeout or by a memory leak.\n",
      "  warnings.warn(\n"
     ]
    },
    {
     "data": {
      "text/plain": [
       "GridSearchCV(cv=5,\n",
       "             estimator=Pipeline(steps=[('cvec', CountVectorizer()),\n",
       "                                       ('nb', MultinomialNB())]),\n",
       "             n_jobs=4,\n",
       "             param_grid={'cvec__max_df': [0.9],\n",
       "                         'cvec__max_features': [2000, 3000, 4000],\n",
       "                         'cvec__min_df': [2, 3],\n",
       "                         'cvec__ngram_range': [(1, 1), (1, 2)]})"
      ]
     },
     "execution_count": 59,
     "metadata": {},
     "output_type": "execute_result"
    }
   ],
   "source": [
    "gs_nb.fit(X_train, y_train)"
   ]
  },
  {
   "cell_type": "code",
   "execution_count": 60,
   "id": "6692fe42-c803-4ecf-b065-e5e0867bb3a4",
   "metadata": {},
   "outputs": [
    {
     "name": "stdout",
     "output_type": "stream",
     "text": [
      "0.9564675602880671\n"
     ]
    }
   ],
   "source": [
    "print(gs_nb.best_score_)"
   ]
  },
  {
   "cell_type": "code",
   "execution_count": 61,
   "id": "ff533d58-d106-4985-880f-842625644f30",
   "metadata": {},
   "outputs": [
    {
     "data": {
      "text/plain": [
       "{'cvec__max_df': 0.9,\n",
       " 'cvec__max_features': 4000,\n",
       " 'cvec__min_df': 2,\n",
       " 'cvec__ngram_range': (1, 1)}"
      ]
     },
     "execution_count": 61,
     "metadata": {},
     "output_type": "execute_result"
    }
   ],
   "source": [
    "gs_nb.best_params_"
   ]
  },
  {
   "cell_type": "code",
   "execution_count": 62,
   "id": "8b7727a0-2d30-4423-ade9-0f5ab2b18560",
   "metadata": {},
   "outputs": [
    {
     "data": {
      "text/plain": [
       "0.961061688785183"
      ]
     },
     "execution_count": 62,
     "metadata": {},
     "output_type": "execute_result"
    }
   ],
   "source": [
    "gs_nb.score(X_train,y_train)"
   ]
  },
  {
   "cell_type": "code",
   "execution_count": 63,
   "id": "f641f980-dfeb-4b7c-8896-e21391dff620",
   "metadata": {},
   "outputs": [
    {
     "data": {
      "text/plain": [
       "0.95831915617557"
      ]
     },
     "execution_count": 63,
     "metadata": {},
     "output_type": "execute_result"
    }
   ],
   "source": [
    "gs_nb.score(X_test, y_test)"
   ]
  },
  {
   "cell_type": "markdown",
   "id": "ce1baa92-63f7-4368-a400-a281a067920f",
   "metadata": {},
   "source": [
    "1-accuracy=misclassification rate\n"
   ]
  },
  {
   "cell_type": "code",
   "execution_count": 64,
   "id": "db485e70-c6f1-4fe7-b247-0acc96e1dca6",
   "metadata": {},
   "outputs": [
    {
     "data": {
      "text/plain": [
       "'Misclassification rate is: 0.04405369635091705'"
      ]
     },
     "execution_count": 64,
     "metadata": {},
     "output_type": "execute_result"
    }
   ],
   "source": [
    "f'Misclassification rate is: {1-0.955946303649083}'"
   ]
  },
  {
   "cell_type": "code",
   "execution_count": 65,
   "id": "c5520377-5e73-4150-b444-3e2ddf8d97ac",
   "metadata": {},
   "outputs": [],
   "source": [
    "nb_preds=gs_nb.predict(X_test)"
   ]
  },
  {
   "cell_type": "code",
   "execution_count": 66,
   "id": "cd0483ce-09e2-4a57-9547-f043f1a57558",
   "metadata": {},
   "outputs": [],
   "source": [
    "tn,fp,fn,tp=confusion_matrix(y_test,nb_preds).ravel()"
   ]
  },
  {
   "cell_type": "code",
   "execution_count": 67,
   "id": "c43f7c9b-dd63-48e8-b673-18b5e6155790",
   "metadata": {},
   "outputs": [
    {
     "data": {
      "image/png": "[encoded data removed]",
      "text/plain": [
       "<Figure size 432x288 with 2 Axes>"
      ]
     },
     "metadata": {
      "needs_background": "light"
     },
     "output_type": "display_data"
    }
   ],
   "source": [
    "plot_confusion_matrix(gs_nb, X_test, y_test, cmap='Blues', values_format='d');\n",
    "plt.savefig('../images/nb_confusion_matrix.png')"
   ]
  },
  {
   "cell_type": "code",
   "execution_count": 68,
   "id": "05055608-af8d-4ed7-87c7-a7995b06db7c",
   "metadata": {},
   "outputs": [
    {
     "name": "stdout",
     "output_type": "stream",
     "text": [
      "2787 152 93 2846\n"
     ]
    }
   ],
   "source": [
    "print(tn,fp,fn,tp)"
   ]
  },
  {
   "cell_type": "code",
   "execution_count": 69,
   "id": "cd0be4dc-58b0-4998-b562-eaf35731185b",
   "metadata": {},
   "outputs": [
    {
     "name": "stdout",
     "output_type": "stream",
     "text": [
      "Specificity: 0.9482817284790745\n"
     ]
    }
   ],
   "source": [
    "spec=tn/(tn+fp)\n",
    "\n",
    "print(f'Specificity: {spec}')"
   ]
  },
  {
   "cell_type": "markdown",
   "id": "15e4e6a7-8215-4ef4-953c-d6fdc8295c05",
   "metadata": {},
   "source": [
    "This model correctly predicted 94.8% of the posts in the coffee subreddit."
   ]
  },
  {
   "cell_type": "code",
   "execution_count": 70,
   "id": "ed8bdd18-df58-499c-ae25-6cdc117d364d",
   "metadata": {},
   "outputs": [
    {
     "name": "stdout",
     "output_type": "stream",
     "text": [
      "Sensitivity(recall) is : 0.9683565838720654\n"
     ]
    }
   ],
   "source": [
    "recall=tp/(tp+fn)\n",
    "print(f'Sensitivity(recall) is : {recall}')\n"
   ]
  },
  {
   "cell_type": "markdown",
   "id": "b36f3319-6328-44e0-9335-b80c46018b76",
   "metadata": {},
   "source": [
    "Our model correctly predicted 96.8% of the posts in the tea subreddit."
   ]
  },
  {
   "cell_type": "code",
   "execution_count": 71,
   "id": "9dfec33a-0df8-46dd-9971-4eab116c1d57",
   "metadata": {},
   "outputs": [
    {
     "name": "stdout",
     "output_type": "stream",
     "text": [
      "Precision: 0.9492995330220146\n"
     ]
    }
   ],
   "source": [
    "prec=tp/(tp+fp)\n",
    "print(f'Precision: {prec}')"
   ]
  },
  {
   "cell_type": "code",
   "execution_count": 72,
   "id": "e9af4b86-bc68-47fd-b290-21908777d951",
   "metadata": {},
   "outputs": [
    {
     "name": "stdout",
     "output_type": "stream",
     "text": [
      "F1 is : 0.9587333670203806\n"
     ]
    }
   ],
   "source": [
    "f1=2*(prec*recall)/(prec+recall)\n",
    "print(f'F1 is : {f1}')\n",
    "#https://towardsdatascience.com/the-3-most-important-composite-classification-metrics-b1f2d886dc7b"
   ]
  },
  {
   "cell_type": "code",
   "execution_count": 73,
   "id": "526f5043-fa37-465c-a8b9-bbb0e1bd9b48",
   "metadata": {},
   "outputs": [
    {
     "name": "stdout",
     "output_type": "stream",
     "text": [
      "Type I error is: 0.05171827152092545\n"
     ]
    }
   ],
   "source": [
    "type_I=1-spec\n",
    "print(f'Type I error is: {type_I}')"
   ]
  },
  {
   "cell_type": "markdown",
   "id": "66738244-ac27-4eb9-b8d4-0356631e3ba3",
   "metadata": {},
   "source": [
    "Our model incorrectly predicted 5.2% of the posts belonging to the coffee subreddit."
   ]
  },
  {
   "cell_type": "code",
   "execution_count": 74,
   "id": "ab8be20c-e0fb-496f-85d5-c9c1c00cb864",
   "metadata": {},
   "outputs": [
    {
     "name": "stdout",
     "output_type": "stream",
     "text": [
      "Type II error is: 0.03164341612793464\n"
     ]
    }
   ],
   "source": [
    "type_II=1-recall\n",
    "print(f'Type II error is: {type_II}')"
   ]
  },
  {
   "cell_type": "markdown",
   "id": "75409f36-bcae-4222-a7cb-c6e49f07a1d2",
   "metadata": {},
   "source": [
    "Our model incorrectly predicted 3.2 % of the posts in the tea subreddit."
   ]
  },
  {
   "cell_type": "markdown",
   "id": "1bb91843-9ca6-4f87-ae5b-8bb2f22522d8",
   "metadata": {},
   "source": [
    "### Multinomial NB/CountVectorizer(with stopwords) Model"
   ]
  },
  {
   "cell_type": "code",
   "execution_count": 75,
   "id": "40f5d335-f258-4577-8c73-74d9a8a30e4a",
   "metadata": {},
   "outputs": [],
   "source": [
    "X=coffee_tea['post']\n",
    "y=coffee_tea['subreddit']\n",
    "\n",
    "X_train2, X_test2, y_train2, y_test2=train_test_split(X,y, \n",
    "                                                 test_size=.30,\n",
    "                                                 random_state=42,\n",
    "                                                 stratify=y)"
   ]
  },
  {
   "cell_type": "code",
   "execution_count": 76,
   "id": "519b3d7e-d998-44f3-966b-4565aba700b8",
   "metadata": {},
   "outputs": [],
   "source": [
    "pipe_nb2=Pipeline([\n",
    "    ('cvec', CountVectorizer(stop_words='english')),\n",
    "    ('nb', MultinomialNB())\n",
    "])"
   ]
  },
  {
   "cell_type": "code",
   "execution_count": 77,
   "id": "cad61502-6959-43a0-a469-6c9c3aaff187",
   "metadata": {},
   "outputs": [],
   "source": [
    "pipenb2_params= {\n",
    "    'cvec__max_features':[2000,3000,4000],\n",
    "    'cvec__min_df':[2,3],\n",
    "    'cvec__max_df':[0.9],\n",
    "    'cvec__ngram_range':[(1,1),(1,2)]\n",
    "}"
   ]
  },
  {
   "cell_type": "code",
   "execution_count": 78,
   "id": "81cb9201-55ac-4da3-a37f-e425cc4bea7a",
   "metadata": {},
   "outputs": [],
   "source": [
    "gs_nb2=GridSearchCV(pipe_nb2,\n",
    "                  param_grid=pipenb2_params,\n",
    "                   cv=5,\n",
    "                   n_jobs=4)"
   ]
  },
  {
   "cell_type": "code",
   "execution_count": 79,
   "id": "247107d6-3393-4339-b94e-6f364b70229d",
   "metadata": {},
   "outputs": [
    {
     "name": "stderr",
     "output_type": "stream",
     "text": [
      "/opt/anaconda3/envs/dsi-111/lib/python3.8/site-packages/joblib/externals/loky/process_executor.py:688: UserWarning: A worker stopped while some jobs were given to the executor. This can be caused by a too short worker timeout or by a memory leak.\n",
      "  warnings.warn(\n"
     ]
    },
    {
     "data": {
      "text/plain": [
       "GridSearchCV(cv=5,\n",
       "             estimator=Pipeline(steps=[('cvec',\n",
       "                                        CountVectorizer(stop_words='english')),\n",
       "                                       ('nb', MultinomialNB())]),\n",
       "             n_jobs=4,\n",
       "             param_grid={'cvec__max_df': [0.9],\n",
       "                         'cvec__max_features': [2000, 3000, 4000],\n",
       "                         'cvec__min_df': [2, 3],\n",
       "                         'cvec__ngram_range': [(1, 1), (1, 2)]})"
      ]
     },
     "execution_count": 79,
     "metadata": {},
     "output_type": "execute_result"
    }
   ],
   "source": [
    "gs_nb2.fit(X_train2, y_train2)"
   ]
  },
  {
   "cell_type": "code",
   "execution_count": 80,
   "id": "70eda616-e590-4f19-9344-8809a0ef4dd7",
   "metadata": {},
   "outputs": [
    {
     "name": "stdout",
     "output_type": "stream",
     "text": [
      "0.9604050147673823\n"
     ]
    }
   ],
   "source": [
    "print(gs_nb2.best_score_)"
   ]
  },
  {
   "cell_type": "code",
   "execution_count": 81,
   "id": "ce117cc5-b74a-4ead-94e8-831763cbc417",
   "metadata": {},
   "outputs": [
    {
     "data": {
      "text/plain": [
       "0.9642700889601866"
      ]
     },
     "execution_count": 81,
     "metadata": {},
     "output_type": "execute_result"
    }
   ],
   "source": [
    "gs_nb2.score(X_train2,y_train2)"
   ]
  },
  {
   "cell_type": "code",
   "execution_count": 82,
   "id": "f5bef080-4b1c-4e4b-89ca-dbf0ddd6c96c",
   "metadata": {},
   "outputs": [
    {
     "data": {
      "text/plain": [
       "0.9630826811840763"
      ]
     },
     "execution_count": 82,
     "metadata": {},
     "output_type": "execute_result"
    }
   ],
   "source": [
    "gs_nb2.score(X_test2,y_test2)"
   ]
  },
  {
   "cell_type": "code",
   "execution_count": 83,
   "id": "22577f42-f277-4ce9-9112-a5df1a997f17",
   "metadata": {},
   "outputs": [
    {
     "data": {
      "text/plain": [
       "{'cvec__max_df': 0.9,\n",
       " 'cvec__max_features': 4000,\n",
       " 'cvec__min_df': 2,\n",
       " 'cvec__ngram_range': (1, 2)}"
      ]
     },
     "execution_count": 83,
     "metadata": {},
     "output_type": "execute_result"
    }
   ],
   "source": [
    "gs_nb2.best_params_"
   ]
  },
  {
   "cell_type": "code",
   "execution_count": 84,
   "id": "491fe8ff-a7fe-48fc-a80f-078e5e736808",
   "metadata": {},
   "outputs": [
    {
     "data": {
      "text/plain": [
       "'Misclassificaiton rate is 0.03572991103981338'"
      ]
     },
     "execution_count": 84,
     "metadata": {},
     "output_type": "execute_result"
    }
   ],
   "source": [
    "f'Misclassification rate is {1-gs_nb2.score(X_train2,y_train2)}'"
   ]
  },
  {
   "cell_type": "code",
   "execution_count": 85,
   "id": "45cd4f17-802d-4cb5-9495-dbcc0b47fb55",
   "metadata": {},
   "outputs": [],
   "source": [
    "nb2_preds=gs_nb2.predict(X_test2)\n",
    "\n",
    "tn,fp,fn,tp= confusion_matrix(y_test2,nb2_preds).ravel()"
   ]
  },
  {
   "cell_type": "code",
   "execution_count": 86,
   "id": "596226f6-283f-4222-b6f2-af74cd2e6922",
   "metadata": {},
   "outputs": [
    {
     "data": {
      "image/png": "[encoded data removed]",
      "text/plain": [
       "<Figure size 432x288 with 2 Axes>"
      ]
     },
     "metadata": {
      "needs_background": "light"
     },
     "output_type": "display_data"
    }
   ],
   "source": [
    "plot_confusion_matrix(gs_nb2, X_test2, y_test2, cmap='Blues', values_format='d');\n",
    "plt.title('NB with Stop Words');\n",
    "plt.savefig('../images/nbsw_confusion_matrix.png')"
   ]
  },
  {
   "cell_type": "code",
   "execution_count": 87,
   "id": "6197deca-9b0b-4c8b-8b38-65a2a0f43d47",
   "metadata": {},
   "outputs": [
    {
     "name": "stdout",
     "output_type": "stream",
     "text": [
      "2828 111 106 2833\n"
     ]
    }
   ],
   "source": [
    "print(tn,fp,fn,tp)"
   ]
  },
  {
   "cell_type": "code",
   "execution_count": 88,
   "id": "f5be5b13-2330-4618-988d-0eae54e732e1",
   "metadata": {},
   "outputs": [
    {
     "name": "stdout",
     "output_type": "stream",
     "text": [
      "Specificity is : 0.9622320517182715\n"
     ]
    }
   ],
   "source": [
    "spec= tn/(tn+fp)\n",
    "\n",
    "print(f'Specificity is : {spec}')"
   ]
  },
  {
   "cell_type": "markdown",
   "id": "f324f509-b8ed-49ff-9a16-234976631ff2",
   "metadata": {},
   "source": [
    "Among those in the coffee subreddit post 95.4% were predicted correctly via this model."
   ]
  },
  {
   "cell_type": "code",
   "execution_count": 89,
   "id": "6edf4c91-0af7-4e58-89f1-a163d96089cc",
   "metadata": {},
   "outputs": [
    {
     "name": "stdout",
     "output_type": "stream",
     "text": [
      "Sensitivity(recall) is : 0.9639333106498809\n"
     ]
    }
   ],
   "source": [
    "recall=tp/(tp+fn)\n",
    "print(f'Sensitivity(recall) is : {recall}')"
   ]
  },
  {
   "cell_type": "markdown",
   "id": "ca1d94f9-a85a-4bae-8473-93b726b7ba32",
   "metadata": {},
   "source": [
    "This model correctly predicted 96.4% of the posts belonging in the tea subreddit."
   ]
  },
  {
   "cell_type": "code",
   "execution_count": 90,
   "id": "16156bce-6552-4e62-9534-03ba1f4d39b6",
   "metadata": {},
   "outputs": [
    {
     "name": "stdout",
     "output_type": "stream",
     "text": [
      "Precision: 0.962296195652174\n"
     ]
    }
   ],
   "source": [
    "precision=tp/(tp+fp)\n",
    "\n",
    "print(f'Precision: {precision}')"
   ]
  },
  {
   "cell_type": "code",
   "execution_count": 91,
   "id": "2839b794-fa05-4b7c-af48-59ed50028d14",
   "metadata": {},
   "outputs": [
    {
     "name": "stdout",
     "output_type": "stream",
     "text": [
      "F1 is : 0.9565604570200682\n"
     ]
    }
   ],
   "source": [
    "f1=2*(prec*recall)/(prec+recall)\n",
    "print(f'F1 is : {f1}')\n",
    "#https://towardsdatascience.com/the-3-most-important-composite-classification-metrics-b1f2d886dc7b"
   ]
  },
  {
   "cell_type": "code",
   "execution_count": 92,
   "id": "a58050cb-f982-40d3-b515-a888f87195c2",
   "metadata": {},
   "outputs": [
    {
     "name": "stdout",
     "output_type": "stream",
     "text": [
      "Type I error is: 0.03776794828172847\n"
     ]
    }
   ],
   "source": [
    "type_I=1-spec\n",
    "print(f'Type I error is: {type_I}')"
   ]
  },
  {
   "cell_type": "markdown",
   "id": "1af2dfb6-4285-4ff1-836c-24e7b860bd24",
   "metadata": {},
   "source": [
    "The model incorrectly predicted 3.8% of the posts in the coffee subreddit."
   ]
  },
  {
   "cell_type": "code",
   "execution_count": 93,
   "id": "2291141d-91c3-45ee-9275-70b14f119cf1",
   "metadata": {},
   "outputs": [
    {
     "name": "stdout",
     "output_type": "stream",
     "text": [
      "Type II error is: 0.03606668935011914\n"
     ]
    }
   ],
   "source": [
    "type_II=1-recall\n",
    "print(f'Type II error is: {type_II}')"
   ]
  },
  {
   "cell_type": "markdown",
   "id": "6af07f3b-8413-4bfe-b655-231ba563076d",
   "metadata": {},
   "source": [
    "The model incorrectly predicted 3.6% of the posts belonging to tea subreddit."
   ]
  },
  {
   "cell_type": "markdown",
   "id": "fe276836-d956-4fc5-867b-abe80dae7953",
   "metadata": {},
   "source": [
    "### RandomForestClassification(Pipeline & Gridsearch)"
   ]
  },
  {
   "cell_type": "code",
   "execution_count": 94,
   "id": "6ba20a04-cb29-49be-9691-b691a6e3bb36",
   "metadata": {},
   "outputs": [],
   "source": [
    "X_train3,X_test3,y_train3,y_test3= train_test_split(X,y,\n",
    "                                                   random_state=42,\n",
    "                                                   stratify=y)\n",
    "\n",
    "piperf= Pipeline([\n",
    "    ('cv', CountVectorizer(stop_words='english')),\n",
    "    ('rfc', RandomForestClassifier()),\n",
    "])\n"
   ]
  },
  {
   "cell_type": "code",
   "execution_count": 95,
   "id": "ee170bfd-b114-41dd-9353-29436a7eddc4",
   "metadata": {},
   "outputs": [
    {
     "data": {
      "text/plain": [
       "dict_keys(['memory', 'steps', 'verbose', 'cv', 'rfc', 'cv__analyzer', 'cv__binary', 'cv__decode_error', 'cv__dtype', 'cv__encoding', 'cv__input', 'cv__lowercase', 'cv__max_df', 'cv__max_features', 'cv__min_df', 'cv__ngram_range', 'cv__preprocessor', 'cv__stop_words', 'cv__strip_accents', 'cv__token_pattern', 'cv__tokenizer', 'cv__vocabulary', 'rfc__bootstrap', 'rfc__ccp_alpha', 'rfc__class_weight', 'rfc__criterion', 'rfc__max_depth', 'rfc__max_features', 'rfc__max_leaf_nodes', 'rfc__max_samples', 'rfc__min_impurity_decrease', 'rfc__min_impurity_split', 'rfc__min_samples_leaf', 'rfc__min_samples_split', 'rfc__min_weight_fraction_leaf', 'rfc__n_estimators', 'rfc__n_jobs', 'rfc__oob_score', 'rfc__random_state', 'rfc__verbose', 'rfc__warm_start'])"
      ]
     },
     "execution_count": 95,
     "metadata": {},
     "output_type": "execute_result"
    }
   ],
   "source": [
    "piperf.get_params().keys()"
   ]
  },
  {
   "cell_type": "code",
   "execution_count": 96,
   "id": "df203318-0f76-453d-9b2d-eab58762746f",
   "metadata": {},
   "outputs": [],
   "source": [
    "rf_params={\n",
    "    'rfc__n_estimators':[100,150,200],\n",
    "    'rfc__max_depth':[None, 1,2,3,4,5],\n",
    "    'rfc__random_state':[42]\n",
    "}\n",
    "\n",
    "gsrf=GridSearchCV(piperf,param_grid=rf_params,\n",
    "                 cv=5,\n",
    "                 n_jobs= 3)\n",
    "\n"
   ]
  },
  {
   "cell_type": "code",
   "execution_count": 97,
   "id": "8c175810-3357-4432-a287-3b8b7243e884",
   "metadata": {},
   "outputs": [
    {
     "name": "stderr",
     "output_type": "stream",
     "text": [
      "/opt/anaconda3/envs/dsi-111/lib/python3.8/site-packages/joblib/externals/loky/process_executor.py:688: UserWarning: A worker stopped while some jobs were given to the executor. This can be caused by a too short worker timeout or by a memory leak.\n",
      "  warnings.warn(\n"
     ]
    },
    {
     "name": "stdout",
     "output_type": "stream",
     "text": [
      "0.9630462934675131\n"
     ]
    },
    {
     "data": {
      "text/plain": [
       "{'rfc__max_depth': None, 'rfc__n_estimators': 200, 'rfc__random_state': 42}"
      ]
     },
     "execution_count": 97,
     "metadata": {},
     "output_type": "execute_result"
    }
   ],
   "source": [
    "gsrf.fit(X_train3,y_train3)\n",
    "\n",
    "print(gsrf.best_score_)\n",
    "\n",
    "gsrf.best_params_"
   ]
  },
  {
   "cell_type": "code",
   "execution_count": 98,
   "id": "ce401f46-5327-4924-a89f-cba4b34cff1d",
   "metadata": {},
   "outputs": [
    {
     "data": {
      "text/plain": [
       "(0.9994555600925548, 0.9648836259697836)"
      ]
     },
     "execution_count": 98,
     "metadata": {},
     "output_type": "execute_result"
    }
   ],
   "source": [
    "gsrf.score(X_train3,y_train3),gsrf.score(X_test3,y_test3)"
   ]
  },
  {
   "cell_type": "code",
   "execution_count": 99,
   "id": "e501cb06-6539-4726-a79a-fb76cc910943",
   "metadata": {},
   "outputs": [
    {
     "data": {
      "text/plain": [
       "'Misclassification rate is 0.0005444399074452377'"
      ]
     },
     "execution_count": 99,
     "metadata": {},
     "output_type": "execute_result"
    }
   ],
   "source": [
    "f'Misclassification rate is {1-gsrf.score(X_train3,y_train3)}'"
   ]
  },
  {
   "cell_type": "code",
   "execution_count": 100,
   "id": "4b0b1bd1-e994-44f6-8634-6f961e1e60fc",
   "metadata": {},
   "outputs": [],
   "source": [
    "rf_preds=gsrf.predict(X_test3)\n",
    "\n",
    "tn,fp,fn,tp= confusion_matrix(y_test3,rf_preds).ravel()"
   ]
  },
  {
   "cell_type": "code",
   "execution_count": 101,
   "id": "1f868c95-81f3-4854-8c31-4cca39aaa534",
   "metadata": {},
   "outputs": [
    {
     "data": {
      "image/png": "[encoded data removed]",
      "text/plain": [
       "<Figure size 432x288 with 2 Axes>"
      ]
     },
     "metadata": {
      "needs_background": "light"
     },
     "output_type": "display_data"
    }
   ],
   "source": [
    "plot_confusion_matrix(gsrf, X_test3, y_test3, cmap='Blues', values_format='d');\n",
    "plt.title('Random Forest Classifier(Pipeline & GridSearch)')\n",
    "plt.savefig('../images/rfconfusionmatrix.png')"
   ]
  },
  {
   "cell_type": "code",
   "execution_count": 102,
   "id": "76bc8b85-503d-4e73-81dd-5102480526f0",
   "metadata": {},
   "outputs": [
    {
     "name": "stdout",
     "output_type": "stream",
     "text": [
      "Specificity is : 0.9620253164556962\n"
     ]
    }
   ],
   "source": [
    "spec= tn/(tn+fp)\n",
    "print(f'Specificity is : {spec}')"
   ]
  },
  {
   "cell_type": "markdown",
   "id": "f924afab-43b3-4e5a-a138-0ea9d74b1bdf",
   "metadata": {},
   "source": [
    "Among posts in the coffee subreddit, 96.1% are correctly predicted via this model."
   ]
  },
  {
   "cell_type": "code",
   "execution_count": 103,
   "id": "59a570c6-f71e-41d6-bb94-35b0f57ff098",
   "metadata": {},
   "outputs": [
    {
     "name": "stdout",
     "output_type": "stream",
     "text": [
      "Sensitivity(recall) is : 0.967741935483871\n"
     ]
    }
   ],
   "source": [
    "recall=tp/(tp+fn)\n",
    "print(f'Sensitivity(recall) is : {recall}')"
   ]
  },
  {
   "cell_type": "markdown",
   "id": "aaef3f27-39d7-41fe-ae82-b2baa98ae31b",
   "metadata": {},
   "source": [
    "The model correctly predicted 96.8% of the posts in the tea subreddit."
   ]
  },
  {
   "cell_type": "code",
   "execution_count": 104,
   "id": "e71c8937-51bf-4647-a36f-546fae81480d",
   "metadata": {},
   "outputs": [
    {
     "name": "stdout",
     "output_type": "stream",
     "text": [
      "Precision is: 0.9622411693057247\n"
     ]
    }
   ],
   "source": [
    "precision=tp/(tp+fp)\n",
    "print(f'Precision is: {precision}')"
   ]
  },
  {
   "cell_type": "code",
   "execution_count": 105,
   "id": "37294ac2-6d6e-4f17-968a-1fdb457bf022",
   "metadata": {},
   "outputs": [
    {
     "name": "stdout",
     "output_type": "stream",
     "text": [
      "F1 is : 0.9584320240674428\n"
     ]
    }
   ],
   "source": [
    "f1=2*(prec*recall)/(prec+recall)\n",
    "print(f'F1 is : {f1}')\n",
    "#https://towardsdatascience.com/the-3-most-important-composite-classification-metrics-b1f2d886dc7b"
   ]
  },
  {
   "cell_type": "code",
   "execution_count": 106,
   "id": "96e1c8d2-00f2-45e0-90e9-3eb331c04458",
   "metadata": {},
   "outputs": [
    {
     "name": "stdout",
     "output_type": "stream",
     "text": [
      "Type I error is: 0.03797468354430378\n"
     ]
    }
   ],
   "source": [
    "type_I=1-spec\n",
    "print(f'Type I error is: {type_I}')"
   ]
  },
  {
   "cell_type": "markdown",
   "id": "10a7939a-023b-42f5-a50b-da9c2aff280c",
   "metadata": {},
   "source": [
    "This model incorrectly predicted 3.8% of the posts in the coffee subreddit."
   ]
  },
  {
   "cell_type": "code",
   "execution_count": 107,
   "id": "bad6514b-6465-404c-bc94-39c37f30e94c",
   "metadata": {},
   "outputs": [
    {
     "name": "stdout",
     "output_type": "stream",
     "text": [
      "Type II error is: 0.032258064516129004\n"
     ]
    }
   ],
   "source": [
    "type_II=1-recall\n",
    "print(f'Type II error is: {type_II}')"
   ]
  },
  {
   "cell_type": "markdown",
   "id": "ab2fcf33-c35a-4c17-8deb-70e5002de18d",
   "metadata": {},
   "source": [
    "This model incorrectly predicted 3.2% of the posts in the tea subreddit."
   ]
  },
  {
   "cell_type": "markdown",
   "id": "7599aa98-2bd1-4fab-9ac9-42a83039318a",
   "metadata": {},
   "source": [
    "### AdaBoost Classifier"
   ]
  },
  {
   "cell_type": "code",
   "execution_count": 108,
   "id": "cb702bf3-ab30-44ab-9b2b-7c69f1b1fbc8",
   "metadata": {},
   "outputs": [
    {
     "data": {
      "text/plain": [
       "Pipeline(steps=[('cv', CountVectorizer(stop_words='english')),\n",
       "                ('abc', AdaBoostClassifier(random_state=42))])"
      ]
     },
     "execution_count": 108,
     "metadata": {},
     "output_type": "execute_result"
    }
   ],
   "source": [
    "X_train4, X_test4, y_train4, y_test4=train_test_split(X,y,\n",
    "                                                   random_state=42,\n",
    "                                                   stratify=y)\n",
    "\n",
    "pipeabc= Pipeline([\n",
    "    ('cv', CountVectorizer(stop_words='english')),\n",
    "    ('abc', AdaBoostClassifier(random_state=42)),\n",
    "])\n",
    "pipeabc.fit(X_train4,y_train4)"
   ]
  },
  {
   "cell_type": "code",
   "execution_count": 109,
   "id": "21d9c168-c1c2-43cc-8a79-67ac90587590",
   "metadata": {},
   "outputs": [
    {
     "data": {
      "text/plain": [
       "(0.9437185245678508, 0.9393630053082891)"
      ]
     },
     "execution_count": 109,
     "metadata": {},
     "output_type": "execute_result"
    }
   ],
   "source": [
    "pipeabc.score(X_train4,y_train4), pipeabc.score(X_test4, y_test4)"
   ]
  },
  {
   "cell_type": "code",
   "execution_count": 110,
   "id": "ec0c3415-af91-4276-9de4-ec04beac26b5",
   "metadata": {},
   "outputs": [
    {
     "data": {
      "text/plain": [
       "'Misclassification rate is 0.06063699469171091'"
      ]
     },
     "execution_count": 110,
     "metadata": {},
     "output_type": "execute_result"
    }
   ],
   "source": [
    "f'Misclassification rate is {1-pipeabc.score(X_test4,y_test4)}'"
   ]
  },
  {
   "cell_type": "code",
   "execution_count": 111,
   "id": "a4f23dd6-76f3-49e0-8375-0cbe1488fd0c",
   "metadata": {},
   "outputs": [],
   "source": [
    "abcpreds=pipeabc.predict(X_test4)"
   ]
  },
  {
   "cell_type": "code",
   "execution_count": 112,
   "id": "3428cdf2-7d6d-4fe1-b44f-2622265da066",
   "metadata": {},
   "outputs": [],
   "source": [
    "tn,fp,fn,tp= confusion_matrix(y_test4,abcpreds).ravel()"
   ]
  },
  {
   "cell_type": "code",
   "execution_count": 113,
   "id": "3ba8abd8-156f-45d9-8331-264f6520fa6d",
   "metadata": {},
   "outputs": [
    {
     "data": {
      "image/png": "[encoded data removed]",
      "text/plain": [
       "<Figure size 432x288 with 2 Axes>"
      ]
     },
     "metadata": {
      "needs_background": "light"
     },
     "output_type": "display_data"
    }
   ],
   "source": [
    "plot_confusion_matrix(pipeabc, X_test4, y_test4, cmap='Blues', values_format='d');\n",
    "plt.title('AdaBoost Classifier')\n",
    "plt.savefig('../images/adaconfu_matr.png')"
   ]
  },
  {
   "cell_type": "code",
   "execution_count": 114,
   "id": "3b682069-bd11-4b92-ae1e-997dbc9ad9c7",
   "metadata": {},
   "outputs": [
    {
     "name": "stdout",
     "output_type": "stream",
     "text": [
      "Specificity is : 0.8958758677011025\n"
     ]
    }
   ],
   "source": [
    "spec= tn/(tn+fp)\n",
    "print(f'Specificity is : {spec}')"
   ]
  },
  {
   "cell_type": "markdown",
   "id": "15a1a9ab-81c6-43b4-9719-6783ec9c23e4",
   "metadata": {},
   "source": [
    "Among posts in the coffee subreddit 89.6% are correctly predicted via this model."
   ]
  },
  {
   "cell_type": "code",
   "execution_count": 115,
   "id": "848790f0-0fdd-4285-9c24-85a6d117eddd",
   "metadata": {},
   "outputs": [
    {
     "name": "stdout",
     "output_type": "stream",
     "text": [
      "Sensitivity(recall) is : 0.9828501429154757\n"
     ]
    }
   ],
   "source": [
    "recall=tp/(tp+fn)\n",
    "print(f'Sensitivity(recall) is : {recall}')"
   ]
  },
  {
   "cell_type": "markdown",
   "id": "5f8f4354-fd28-4fe9-9c91-5fde5271b6d0",
   "metadata": {},
   "source": [
    "The model correctly predicted 98.3% of the posts in the tea subreddit."
   ]
  },
  {
   "cell_type": "code",
   "execution_count": 116,
   "id": "a4e8ff8d-298a-4a3b-bfda-bbb2438aa411",
   "metadata": {},
   "outputs": [
    {
     "name": "stdout",
     "output_type": "stream",
     "text": [
      "Precision is: 0.9042073628850489\n"
     ]
    }
   ],
   "source": [
    "precision=tp/(tp+fp)\n",
    "print(f'Precision is: {precision}')"
   ]
  },
  {
   "cell_type": "code",
   "execution_count": 117,
   "id": "c10902c2-060e-4db5-b959-b716ab67ac19",
   "metadata": {},
   "outputs": [
    {
     "name": "stdout",
     "output_type": "stream",
     "text": [
      "F1 is : 0.9657835449498239\n"
     ]
    }
   ],
   "source": [
    "f1=2*(prec*recall)/(prec+recall)\n",
    "print(f'F1 is : {f1}')\n",
    "#https://towardsdatascience.com/the-3-most-important-composite-classification-metrics-b1f2d886dc7b"
   ]
  },
  {
   "cell_type": "code",
   "execution_count": 118,
   "id": "9b8ee9d2-0962-4d64-b9a7-bf2d2a41f27b",
   "metadata": {},
   "outputs": [
    {
     "name": "stdout",
     "output_type": "stream",
     "text": [
      "Type I error is: 0.1041241322988975\n"
     ]
    }
   ],
   "source": [
    "type_I=1-spec\n",
    "print(f'Type I error is: {type_I}')"
   ]
  },
  {
   "cell_type": "markdown",
   "id": "5a7f39f2-5577-4869-9413-29927354d3c4",
   "metadata": {},
   "source": [
    "This model incorrectly predicted 10.4% of the posts in the coffee subreddit."
   ]
  },
  {
   "cell_type": "code",
   "execution_count": 119,
   "id": "1d190181-0b47-4c5b-a242-762322449eb0",
   "metadata": {},
   "outputs": [
    {
     "name": "stdout",
     "output_type": "stream",
     "text": [
      "Type II error is: 0.017149857084524323\n"
     ]
    }
   ],
   "source": [
    "type_II=1-recall\n",
    "print(f'Type II error is: {type_II}')"
   ]
  },
  {
   "cell_type": "markdown",
   "id": "638afe31-9086-4cd3-9f21-d2d390c9fc11",
   "metadata": {},
   "source": [
    "This model incorrectly predicted 1.7% of the posts in the tea subreddit."
   ]
  },
  {
   "cell_type": "markdown",
   "id": "1be05d1b-ddaf-47d6-b0de-4664099f60f9",
   "metadata": {},
   "source": []
  }
 ],
 "metadata": {
  "kernelspec": {
   "display_name": "Python 3",
   "language": "python",
   "name": "python3"
  },
  "language_info": {
   "codemirror_mode": {
    "name": "ipython",
    "version": 3
   },
   "file_extension": ".py",
   "mimetype": "text/x-python",
   "name": "python",
   "nbconvert_exporter": "python",
   "pygments_lexer": "ipython3",
   "version": "3.8.8"
  }
 },
 "nbformat": 4,
 "nbformat_minor": 5
}
