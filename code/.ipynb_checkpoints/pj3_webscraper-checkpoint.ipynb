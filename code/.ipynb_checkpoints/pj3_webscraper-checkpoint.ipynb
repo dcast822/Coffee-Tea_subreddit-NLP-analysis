{
 "cells": [
  {
   "cell_type": "markdown",
   "id": "bd636aea-3f6d-4380-b065-0f7292d21676",
   "metadata": {},
   "source": [
    "<img src=\"http://imgur.com/1ZcRyrc.png\" style=\"float: left; margin: 20px; height: 55px\">\n",
    "\n",
    "# Project 3: Webscaper Function/Pushshift API"
   ]
  },
  {
   "cell_type": "code",
   "execution_count": 3,
   "id": "61ed77f8-3d3f-400e-8223-789cc2458670",
   "metadata": {},
   "outputs": [],
   "source": [
    "import pandas as pd\n",
    "import numpy as np\n",
    "import seaborn as sns\n",
    "import matplotlib.pyplot as plt\n",
    "\n",
    "import requests\n",
    "import urllib\n",
    "import time\n",
    "import json"
   ]
  },
  {
   "cell_type": "markdown",
   "id": "2471a2b3-2c43-45a9-a4bf-a5facaf10007",
   "metadata": {},
   "source": [
    "### Pushshift API Function"
   ]
  },
  {
   "cell_type": "code",
   "execution_count": 2,
   "id": "3cdfda5a-e93a-436d-b23e-74ae6d9348eb",
   "metadata": {},
   "outputs": [],
   "source": [
    "def get_data(object_type, username='',subreddit='', search_query='', max_time=None, min_time=1577860720):\n",
    "\n",
    "    if max_time is None:\n",
    "        max_time = int(time.time())\n",
    "\n",
    "    filter_string = urllib.parse.urlencode(\n",
    "        {k: v for k, v in zip(\n",
    "            ['title','subreddit','created_utc','selftext'],\n",
    "            [username,subreddit, search_query]) if v != \"\"})\n",
    "\n",
    "    url_format = \"https://api.pushshift.io/reddit/search/{}/?size=100&sort=desc&{}&before={}\"\n",
    "\n",
    "    before = max_time\n",
    "    df = pd.DataFrame()\n",
    "    \n",
    "    while before > min_time:\n",
    "        url = url_format.format(object_type, filter_string, before)\n",
    "        resp = requests.get(url)\n",
    "\n",
    "        \n",
    "        dfi = pd.json_normalize(json.loads(resp.text)['data'])\n",
    "        \n",
    "        if object_type == 'comment':\n",
    "            dfi = dfi.rename(columns={'created_utc': 'date', 'body': 'comment'})\n",
    "            df = pd.concat([df, dfi[['id','date', 'comment', 'score','subreddit']]])\n",
    "        elif object_type == 'submission':\n",
    "            dfi = dfi.rename(columns={'created_utc': 'date', 'selftext': 'post'})\n",
    "            dfi = dfi[dfi['post'].ne('')]\n",
    "            df = pd.concat([df, dfi[['id','date', 'post', 'score','subreddit']]])\n",
    "\n",
    "        before = dfi['date'].min()\n",
    "\n",
    "        # Keep proper pace in reddit\n",
    "        time.sleep(15)\n",
    "        \n",
    "    return df\n",
    "\n",
    "#https://stackoverflow.com/questions/66783488/code-efficiency-performance-improvement-in-pushshift-reddit-web-scraping-loop"
   ]
  },
  {
   "cell_type": "markdown",
   "id": "2680a6ef-9bd4-4a62-b69c-f9394862ca24",
   "metadata": {},
   "source": [
    "### Subreddit(Coffee)"
   ]
  },
  {
   "cell_type": "code",
   "execution_count": null,
   "id": "1e519a82-0de0-4836-a718-6a4aa65133d6",
   "metadata": {},
   "outputs": [],
   "source": [
    "# df_commentsername=\"\"\n",
    "# subreddit = \"coffee\"\n",
    "# search_query = \"\"\n",
    "\n",
    "# df_comments = get_data(\n",
    "#     object_type='submission',\n",
    "#     username=username,\n",
    "#     subreddit=subreddit,\n",
    "#     search_query=search_query)\n",
    "# # january 1st 2021 1609483120\n"
   ]
  },
  {
   "cell_type": "code",
   "execution_count": null,
   "id": "f2f3c2f3-9c82-48a1-b09c-75ac01514050",
   "metadata": {},
   "outputs": [],
   "source": [
    "# df_comments.to_csv('../data/coffee.csv', index=False)\n",
    "# should have used index=False"
   ]
  },
  {
   "cell_type": "markdown",
   "id": "51c7ae48-c9e4-403a-bfde-1789205358ae",
   "metadata": {},
   "source": [
    "### Subreddit(Tea)"
   ]
  },
  {
   "cell_type": "code",
   "execution_count": null,
   "id": "804b55f5-60c5-416c-bfaa-d67f24e8d694",
   "metadata": {},
   "outputs": [],
   "source": [
    "# username=\"\"\n",
    "# subreddit=\"tea\"\n",
    "# search_query=\"\"\n",
    "\n",
    "# tea_posts=get_data(object_type='submission',\n",
    "#                   username=username,\n",
    "#                   subreddit=subreddit,\n",
    "#                   search_query=search_query)\n",
    "# #posts since january 1,2020 to get about as much data as the coffee subreddit.(UTC=1577860720)\n",
    "# tea_posts.info()\n",
    "# tea_posts.to_csv('../data/tea.csv', index=False)"
   ]
  }
 ],
 "metadata": {
  "kernelspec": {
   "display_name": "Python 3",
   "language": "python",
   "name": "python3"
  },
  "language_info": {
   "codemirror_mode": {
    "name": "ipython",
    "version": 3
   },
   "file_extension": ".py",
   "mimetype": "text/x-python",
   "name": "python",
   "nbconvert_exporter": "python",
   "pygments_lexer": "ipython3",
   "version": "3.8.8"
  }
 },
 "nbformat": 4,
 "nbformat_minor": 5
}
