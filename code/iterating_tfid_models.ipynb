{
 "cells": [
  {
   "cell_type": "markdown",
   "id": "07454b00-5930-4fbd-9608-bad79ebfcd78",
   "metadata": {},
   "source": [
    "<img src=\"http://imgur.com/1ZcRyrc.png\" style=\"float: left; margin: 20px; height: 55px\">\n",
    "\n",
    "# Project 3: Web APIs & NLP(TFID models)"
   ]
  },
  {
   "cell_type": "code",
   "execution_count": null,
   "id": "31a76c1e-38ae-407e-a113-e830e3c3b9b7",
   "metadata": {},
   "outputs": [],
   "source": [
    "import pandas as pd\n",
    "import numpy as np\n",
    "import seaborn as sns\n",
    "import matplotlib.pyplot as plt\n",
    "\n",
    "import requests\n",
    "import urllib\n",
    "import time\n",
    "import json\n",
    "\n",
    "from nltk.tokenize import sent_tokenize, word_tokenize\n",
    "from nltk.stem import WordNetLemmatizer\n",
    "from nltk.corpus import stopwords\n",
    "from sklearn.feature_extraction.text import CountVectorizer, TfidfVectorizer\n",
    "from sklearn.naive_bayes import MultinomialNB\n",
    "from sklearn.model_selection import train_test_split, GridSearchCV\n",
    "from sklearn.pipeline import Pipeline\n",
    "from sklearn.metrics import confusion_matrix, plot_confusion_matrix\n",
    "from sklearn.ensemble import RandomForestClassifier, AdaBoostClassifier\n",
    "from sklearn.metrics import accuracy_score, recall_score,precision_score,f1_score\n",
    "from sklearn.linear_model import LogisticRegression, LogisticRegressionCV"
   ]
  },
  {
   "cell_type": "code",
   "execution_count": 2,
   "id": "dfd61ee4-d5e0-4710-bf51-820acce1e5b4",
   "metadata": {},
   "outputs": [
    {
     "data": {
      "text/html": [
       "<div>\n",
       "<style scoped>\n",
       "    .dataframe tbody tr th:only-of-type {\n",
       "        vertical-align: middle;\n",
       "    }\n",
       "\n",
       "    .dataframe tbody tr th {\n",
       "        vertical-align: top;\n",
       "    }\n",
       "\n",
       "    .dataframe thead th {\n",
       "        text-align: right;\n",
       "    }\n",
       "</style>\n",
       "<table border=\"1\" class=\"dataframe\">\n",
       "  <thead>\n",
       "    <tr style=\"text-align: right;\">\n",
       "      <th></th>\n",
       "      <th>post</th>\n",
       "      <th>subreddit</th>\n",
       "      <th>post_len</th>\n",
       "      <th>word_count</th>\n",
       "    </tr>\n",
       "  </thead>\n",
       "  <tbody>\n",
       "    <tr>\n",
       "      <th>0</th>\n",
       "      <td>Voici un livre incroyable, qui vous fera gagne...</td>\n",
       "      <td>Coffee</td>\n",
       "      <td>648</td>\n",
       "      <td>45</td>\n",
       "    </tr>\n",
       "    <tr>\n",
       "      <th>1</th>\n",
       "      <td>Hey all o/\\n\\nMy wife is amazing at making cof...</td>\n",
       "      <td>Coffee</td>\n",
       "      <td>1332</td>\n",
       "      <td>243</td>\n",
       "    </tr>\n",
       "    <tr>\n",
       "      <th>2</th>\n",
       "      <td>So I've recently just started making my own co...</td>\n",
       "      <td>Coffee</td>\n",
       "      <td>228</td>\n",
       "      <td>40</td>\n",
       "    </tr>\n",
       "    <tr>\n",
       "      <th>3</th>\n",
       "      <td>Hello all!\\n\\nI have been doing some research,...</td>\n",
       "      <td>Coffee</td>\n",
       "      <td>655</td>\n",
       "      <td>119</td>\n",
       "    </tr>\n",
       "    <tr>\n",
       "      <th>4</th>\n",
       "      <td>I’ve gotten pretty comfortable switching betwe...</td>\n",
       "      <td>Coffee</td>\n",
       "      <td>598</td>\n",
       "      <td>108</td>\n",
       "    </tr>\n",
       "  </tbody>\n",
       "</table>\n",
       "</div>"
      ],
      "text/plain": [
       "                                                post subreddit  post_len  \\\n",
       "0  Voici un livre incroyable, qui vous fera gagne...    Coffee       648   \n",
       "1  Hey all o/\\n\\nMy wife is amazing at making cof...    Coffee      1332   \n",
       "2  So I've recently just started making my own co...    Coffee       228   \n",
       "3  Hello all!\\n\\nI have been doing some research,...    Coffee       655   \n",
       "4  I’ve gotten pretty comfortable switching betwe...    Coffee       598   \n",
       "\n",
       "   word_count  \n",
       "0          45  \n",
       "1         243  \n",
       "2          40  \n",
       "3         119  \n",
       "4         108  "
      ]
     },
     "execution_count": 2,
     "metadata": {},
     "output_type": "execute_result"
    }
   ],
   "source": [
    "df= pd.read_csv('../data/coffee_tea.csv')\n",
    "df.head()"
   ]
  },
  {
   "cell_type": "code",
   "execution_count": 4,
   "id": "c40ce1f0-2ef0-460e-879f-73aa6154c27f",
   "metadata": {},
   "outputs": [
    {
     "data": {
      "text/plain": [
       "(19592, 4)"
      ]
     },
     "execution_count": 4,
     "metadata": {},
     "output_type": "execute_result"
    }
   ],
   "source": [
    "df.shape"
   ]
  },
  {
   "cell_type": "code",
   "execution_count": 13,
   "id": "ebd91da5-536a-427d-86f9-67a282b6e56e",
   "metadata": {},
   "outputs": [],
   "source": [
    "X=df['post']\n",
    "y=df['subreddit']\n",
    "\n",
    "X_train, X_test, y_train, y_test = train_test_split(X,y, stratify=y, random_state=42)\n",
    "\n",
    "pipe_1= Pipeline([\n",
    "    ('tvec', TfidfVectorizer(stop_words='english')),\n",
    "    ('logreg', LogisticRegressionCV(solver='liblinear'))\n",
    "])\n",
    "\n"
   ]
  },
  {
   "cell_type": "code",
   "execution_count": 14,
   "id": "99700ba5-f175-4d8d-a95a-1b11a2a6b4de",
   "metadata": {},
   "outputs": [],
   "source": [
    "pipe1_params= {\n",
    "    'tvec__min_df':[2,3],\n",
    "    'tvec__max_features':[2000,3000,4000,5000],\n",
    "    'tvec__max_df':[.9, .95],\n",
    "    'tvec__ngram_range':[(1,1),(1,2)]\n",
    "}"
   ]
  },
  {
   "cell_type": "code",
   "execution_count": 15,
   "id": "33bade5e-4d76-48b8-a5e8-1d969faf206e",
   "metadata": {},
   "outputs": [],
   "source": [
    "gs1 = GridSearchCV(pipe_1, \n",
    "                  param_grid=pipe1_params,\n",
    "                  cv = 5)"
   ]
  },
  {
   "cell_type": "code",
   "execution_count": 16,
   "id": "9db2bfdc-d72b-4c7b-b7f3-573f39c09714",
   "metadata": {},
   "outputs": [
    {
     "data": {
      "text/plain": [
       "GridSearchCV(cv=5,\n",
       "             estimator=Pipeline(steps=[('tvec',\n",
       "                                        TfidfVectorizer(stop_words='english')),\n",
       "                                       ('logreg',\n",
       "                                        LogisticRegressionCV(solver='liblinear'))]),\n",
       "             param_grid={'tvec__max_df': [0.9, 0.95],\n",
       "                         'tvec__max_features': [2000, 3000, 4000, 5000],\n",
       "                         'tvec__min_df': [2, 3],\n",
       "                         'tvec__ngram_range': [(1, 1), (1, 2)]})"
      ]
     },
     "execution_count": 16,
     "metadata": {},
     "output_type": "execute_result"
    }
   ],
   "source": [
    "gs1.fit(X_train, y_train)"
   ]
  },
  {
   "cell_type": "code",
   "execution_count": 17,
   "id": "2e467173-fc13-4704-ad83-2f3e2fb33741",
   "metadata": {},
   "outputs": [
    {
     "data": {
      "text/plain": [
       "{'tvec__max_df': 0.9,\n",
       " 'tvec__max_features': 4000,\n",
       " 'tvec__min_df': 2,\n",
       " 'tvec__ngram_range': (1, 1)}"
      ]
     },
     "execution_count": 17,
     "metadata": {},
     "output_type": "execute_result"
    }
   ],
   "source": [
    "gs1.best_params_"
   ]
  },
  {
   "cell_type": "code",
   "execution_count": 18,
   "id": "20bb7e34-5a30-4cc2-a6ea-338d8a13f2f0",
   "metadata": {},
   "outputs": [],
   "source": [
    "preds_logreg=gs1.predict(X_test)"
   ]
  },
  {
   "cell_type": "code",
   "execution_count": 19,
   "id": "0e2e2a35-aff4-4ac8-8294-766572765ced",
   "metadata": {},
   "outputs": [
    {
     "data": {
      "text/plain": [
       "(0.9899959167006942, 0.967741935483871)"
      ]
     },
     "execution_count": 19,
     "metadata": {},
     "output_type": "execute_result"
    }
   ],
   "source": [
    "gs1.score(X_train, y_train), gs1.score(X_test, y_test)"
   ]
  },
  {
   "cell_type": "code",
   "execution_count": 20,
   "id": "7780f3ed-647d-424f-8d2c-f18e88c45944",
   "metadata": {},
   "outputs": [
    {
     "name": "stdout",
     "output_type": "stream",
     "text": [
      "F1 is : 0.9675431388660642\n",
      "Sensitivity(recall) is : 0.9616169865251123\n",
      "Specificity: 0.9738668844426297\n",
      "Precision: 0.9735427862753204\n"
     ]
    }
   ],
   "source": [
    "tn,fp, fn,tp = confusion_matrix(y_test,preds_logreg).ravel()\n",
    "\n",
    "recall = tp/(tp+fn)\n",
    "spec = tn/(tn+fp)\n",
    "prec=tp/(tp+fp)\n",
    "f1=2*(prec*recall)/(prec+recall)\n",
    "\n",
    "print(f'F1 is : {f1}')\n",
    "print(f'Sensitivity(recall) is : {recall}')\n",
    "print(f'Specificity: {spec}')\n",
    "print(f'Precision: {prec}')"
   ]
  },
  {
   "cell_type": "code",
   "execution_count": 26,
   "id": "63f2edd7-fb93-4790-a66e-5ea3cfa03448",
   "metadata": {},
   "outputs": [
    {
     "data": {
      "image/png": "[encoded data removed]",
      "text/plain": [
       "<Figure size 432x288 with 2 Axes>"
      ]
     },
     "metadata": {
      "needs_background": "light"
     },
     "output_type": "display_data"
    }
   ],
   "source": [
    "plot_confusion_matrix(gs1, X_test, y_test, cmap='bone', values_format='d');\n",
    "plt.savefig('../images/tfidlr_conf_matrix.png')"
   ]
  },
  {
   "cell_type": "code",
   "execution_count": 21,
   "id": "db0bf69a-4432-44e3-b592-fda3754fa8f9",
   "metadata": {},
   "outputs": [
    {
     "name": "stdout",
     "output_type": "stream",
     "text": [
      "Type I error is: 0.0261331155573703\n",
      "Type II error is: 0.038383013474887706\n"
     ]
    }
   ],
   "source": [
    "type_I=1-spec\n",
    "type_II=1-recall\n",
    "\n",
    "print(f'Type I error is: {type_I}')\n",
    "print(f'Type II error is: {type_II}')\n"
   ]
  },
  {
   "cell_type": "markdown",
   "id": "11fe128a-1bd0-4ffd-8b76-bd214ae35513",
   "metadata": {},
   "source": [
    "### RandomForest TFID"
   ]
  },
  {
   "cell_type": "code",
   "execution_count": 28,
   "id": "e5b6b414-aad4-4ace-b0d9-45df5200836e",
   "metadata": {},
   "outputs": [],
   "source": [
    "pipe2= Pipeline([\n",
    "    ('tvec', TfidfVectorizer(stop_words='english')),\n",
    "    ('rfc', RandomForestClassifier()),\n",
    "])\n"
   ]
  },
  {
   "cell_type": "code",
   "execution_count": 30,
   "id": "bffff43c-4bd1-403d-8b3a-4d17d872198d",
   "metadata": {},
   "outputs": [],
   "source": [
    "rf_params={\n",
    "    'tvec__min_df':[2,3],\n",
    "    'tvec__max_features':[2000,3000,4000,5000],\n",
    "    'tvec__max_df':[.9, .95],\n",
    "    'tvec__ngram_range':[(1,1),(1,2)],\n",
    "    'rfc__n_estimators':[100,150,200],\n",
    "    'rfc__max_depth':[None, 1,2,3,4,5],\n",
    "    'rfc__random_state':[42]\n",
    "}\n",
    "\n",
    "gsrf=GridSearchCV(pipe2,param_grid=rf_params,\n",
    "                 cv=5,\n",
    "                 n_jobs= 3)\n",
    "\n"
   ]
  },
  {
   "cell_type": "code",
   "execution_count": 31,
   "id": "83930fb7-1562-4ee3-a7bc-327f05f8c86b",
   "metadata": {},
   "outputs": [
    {
     "name": "stderr",
     "output_type": "stream",
     "text": [
      "/opt/anaconda3/envs/dsi-111/lib/python3.8/site-packages/joblib/externals/loky/process_executor.py:688: UserWarning: A worker stopped while some jobs were given to the executor. This can be caused by a too short worker timeout or by a memory leak.\n",
      "  warnings.warn(\n"
     ]
    },
    {
     "name": "stdout",
     "output_type": "stream",
     "text": [
      "0.9643394587147653\n"
     ]
    },
    {
     "data": {
      "text/plain": [
       "{'rfc__max_depth': None,\n",
       " 'rfc__n_estimators': 200,\n",
       " 'rfc__random_state': 42,\n",
       " 'tvec__max_df': 0.9,\n",
       " 'tvec__max_features': 5000,\n",
       " 'tvec__min_df': 2,\n",
       " 'tvec__ngram_range': (1, 1)}"
      ]
     },
     "execution_count": 31,
     "metadata": {},
     "output_type": "execute_result"
    }
   ],
   "source": [
    "gsrf.fit(X_train,y_train)\n",
    "\n",
    "print(gsrf.best_score_)\n",
    "\n",
    "gsrf.best_params_"
   ]
  },
  {
   "cell_type": "code",
   "execution_count": 32,
   "id": "13402c29-b27c-491b-80ab-e1dbbcb661d8",
   "metadata": {},
   "outputs": [],
   "source": [
    "preds_rf=gsrf.predict(X_test)"
   ]
  },
  {
   "cell_type": "code",
   "execution_count": 33,
   "id": "f14819d2-9909-4912-bd0f-8f767e505ec9",
   "metadata": {},
   "outputs": [
    {
     "data": {
      "text/plain": [
       "(0.9987750102082482, 0.9630461412821559)"
      ]
     },
     "execution_count": 33,
     "metadata": {},
     "output_type": "execute_result"
    }
   ],
   "source": [
    "gsrf.score(X_train, y_train), gsrf.score(X_test, y_test)"
   ]
  },
  {
   "cell_type": "code",
   "execution_count": 34,
   "id": "068b2afc-4f6e-45eb-b6fe-8eed0ce1786f",
   "metadata": {},
   "outputs": [
    {
     "name": "stdout",
     "output_type": "stream",
     "text": [
      "F1 is : 0.9631289468323487\n",
      "Sensitivity(recall) is : 0.9652919559003675\n",
      "Specificity: 0.9608003266639444\n",
      "Precision: 0.9609756097560975\n"
     ]
    }
   ],
   "source": [
    "tn,fp, fn,tp = confusion_matrix(y_test,preds_rf).ravel()\n",
    "\n",
    "recall = tp/(tp+fn)\n",
    "spec = tn/(tn+fp)\n",
    "prec=tp/(tp+fp)\n",
    "f1=2*(prec*recall)/(prec+recall)\n",
    "\n",
    "print(f'F1 is : {f1}')\n",
    "print(f'Sensitivity(recall) is : {recall}')\n",
    "print(f'Specificity: {spec}')\n",
    "print(f'Precision: {prec}')"
   ]
  },
  {
   "cell_type": "code",
   "execution_count": 35,
   "id": "9a079833-b1e9-4ec0-8c9c-1eeb4a9cad21",
   "metadata": {},
   "outputs": [
    {
     "name": "stdout",
     "output_type": "stream",
     "text": [
      "Type I error is: 0.03919967333605556\n",
      "Type II error is: 0.03470804409963246\n"
     ]
    }
   ],
   "source": [
    "type_I=1-spec\n",
    "type_II=1-recall\n",
    "\n",
    "print(f'Type I error is: {type_I}')\n",
    "print(f'Type II error is: {type_II}')\n"
   ]
  },
  {
   "cell_type": "code",
   "execution_count": 36,
   "id": "cc1c91bb-540e-4c09-8295-2c3b53612fd0",
   "metadata": {},
   "outputs": [
    {
     "data": {
      "image/png": "[encoded data removed]",
      "text/plain": [
       "<Figure size 432x288 with 2 Axes>"
      ]
     },
     "metadata": {
      "needs_background": "light"
     },
     "output_type": "display_data"
    }
   ],
   "source": [
    "plot_confusion_matrix(gsrf, X_test, y_test, cmap='bone', values_format='d');\n",
    "plt.savefig('../images/tfidrf_conf_matrix.png')"
   ]
  },
  {
   "cell_type": "markdown",
   "id": "83503534-29a2-414e-9fc4-c77eca431159",
   "metadata": {},
   "source": [
    "### Conclusion & Recommendations"
   ]
  },
  {
   "cell_type": "markdown",
   "id": "46b2a27a-6fd3-4ab6-b19e-a792163f8c6c",
   "metadata": {},
   "source": [
    "Our client tasked us with finding some insights for them to help aid their sales strategies.  We were able to find some of the top word pairs for each particular subreddit and could gather some insight.  For the coffee subreddit we saw word pairs such as french press, espresso machine, cold brew, moka pot and coffee maker.  These are brewing methods that can help guide us into looking at more data. You can target the segment of customers by providing a variety of brewing methods at a coffee shop. Another way to approach it could be to sell this variety of equipment through all your sales channels(online, retail, etc.).  On the tea side of things you see the words centered around the variety of teas, green tea, black tea, loose lead, and oolong.  These conversations seem more centered around the plant themselves, a coffee/tea company may then want to examine their offerings in terms of quality and variety to target those customers.  The Logistic Regression here helps in that we can at least be assured that these word pairings are coming from the subreddit that they are predicted to come from.  We have a specificity score of 97.4% which tells us how well we predicted posts in the coffee subreddit. Our recall is 96.2% which is how well they predicted the posts in the tea subreddit."
   ]
  },
  {
   "cell_type": "markdown",
   "id": "01b32178-ef8b-45c7-ad9f-6218bfcfd08d",
   "metadata": {},
   "source": [
    "### Next Steps"
   ]
  },
  {
   "cell_type": "markdown",
   "id": "78e34bb8-92d1-489b-b286-1fe8e3026c54",
   "metadata": {},
   "source": [
    "Of course we cannot just run with a recommendation without further information but there is something to this cultural difference between tea and coffee enthusiasts.  Looking at the company's sales data could also help us with regard to what features contribute to sales and how relevant the findings from this project are. We could improve the models by grid searching through more ngrams. Also, customizing the stop words in order to get rid of website hyperlinks and such."
   ]
  },
  {
   "cell_type": "code",
   "execution_count": null,
   "id": "c309a9fc-1618-4509-b72b-1e06a9e56fdd",
   "metadata": {},
   "outputs": [],
   "source": []
  }
 ],
 "metadata": {
  "kernelspec": {
   "display_name": "Python 3",
   "language": "python",
   "name": "python3"
  },
  "language_info": {
   "codemirror_mode": {
    "name": "ipython",
    "version": 3
   },
   "file_extension": ".py",
   "mimetype": "text/x-python",
   "name": "python",
   "nbconvert_exporter": "python",
   "pygments_lexer": "ipython3",
   "version": "3.8.8"
  }
 },
 "nbformat": 4,
 "nbformat_minor": 5
}
